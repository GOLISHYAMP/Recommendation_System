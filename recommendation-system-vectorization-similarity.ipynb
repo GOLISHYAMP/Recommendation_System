{
 "cells": [
  {
   "cell_type": "code",
   "execution_count": 1,
   "id": "7e0bd400",
   "metadata": {
    "execution": {
     "iopub.execute_input": "2023-07-29T14:23:14.237756Z",
     "iopub.status.busy": "2023-07-29T14:23:14.236871Z",
     "iopub.status.idle": "2023-07-29T14:23:14.252483Z",
     "shell.execute_reply": "2023-07-29T14:23:14.251252Z"
    },
    "papermill": {
     "duration": 0.031126,
     "end_time": "2023-07-29T14:23:14.255645",
     "exception": false,
     "start_time": "2023-07-29T14:23:14.224519",
     "status": "completed"
    },
    "tags": []
   },
   "outputs": [],
   "source": [
    "import pandas as pd\n",
    "import numpy as np\n",
    "import os\n",
    "from typing import Callable # this is to define test_func functions dtype as function itself\n",
    "import re # for regural expression\n",
    "import warnings\n",
    "warnings.filterwarnings('ignore')\n",
    "import pickle # for pickling my model"
   ]
  },
  {
   "cell_type": "markdown",
   "id": "cad435e3",
   "metadata": {},
   "source": [
    "# Can import the below dataset from \n",
    "/kaggle/input/mobile-recommendation-system-dataset/mobile_recommendation_system_dataset.csv"
   ]
  },
  {
   "cell_type": "code",
   "execution_count": 2,
   "id": "a28aeda0",
   "metadata": {},
   "outputs": [],
   "source": [
    "base_path = os.getcwd()\n",
    "sub_path = 'data'\n",
    "dataset_path = os.path.join(base_path, sub_path, 'mobile_recommendation_system_dataset.csv')"
   ]
  },
  {
   "cell_type": "code",
   "execution_count": 3,
   "id": "53e7057d",
   "metadata": {
    "execution": {
     "iopub.execute_input": "2023-07-29T14:23:14.278905Z",
     "iopub.status.busy": "2023-07-29T14:23:14.278475Z",
     "iopub.status.idle": "2023-07-29T14:23:14.350683Z",
     "shell.execute_reply": "2023-07-29T14:23:14.349355Z"
    },
    "papermill": {
     "duration": 0.088013,
     "end_time": "2023-07-29T14:23:14.353638",
     "exception": false,
     "start_time": "2023-07-29T14:23:14.265625",
     "status": "completed"
    },
    "tags": []
   },
   "outputs": [],
   "source": [
    "df = pd.read_csv(dataset_path,index_col=False)"
   ]
  },
  {
   "cell_type": "code",
   "execution_count": 4,
   "id": "e20607cc",
   "metadata": {},
   "outputs": [
    {
     "data": {
      "text/html": [
       "<div>\n",
       "<style scoped>\n",
       "    .dataframe tbody tr th:only-of-type {\n",
       "        vertical-align: middle;\n",
       "    }\n",
       "\n",
       "    .dataframe tbody tr th {\n",
       "        vertical-align: top;\n",
       "    }\n",
       "\n",
       "    .dataframe thead th {\n",
       "        text-align: right;\n",
       "    }\n",
       "</style>\n",
       "<table border=\"1\" class=\"dataframe\">\n",
       "  <thead>\n",
       "    <tr style=\"text-align: right;\">\n",
       "      <th></th>\n",
       "      <th>name</th>\n",
       "      <th>ratings</th>\n",
       "      <th>price</th>\n",
       "      <th>imgURL</th>\n",
       "      <th>corpus</th>\n",
       "    </tr>\n",
       "  </thead>\n",
       "  <tbody>\n",
       "    <tr>\n",
       "      <th>0</th>\n",
       "      <td>REDMI Note 12 Pro 5G (Onyx Black, 128 GB)</td>\n",
       "      <td>4.2</td>\n",
       "      <td>23999</td>\n",
       "      <td>https://rukminim2.flixcart.com/image/312/312/x...</td>\n",
       "      <td>Storage128 GBRAM6  SystemAndroid 12Processor T...</td>\n",
       "    </tr>\n",
       "    <tr>\n",
       "      <th>1</th>\n",
       "      <td>OPPO F11 Pro (Aurora Green, 128 GB)</td>\n",
       "      <td>4.5</td>\n",
       "      <td>₹20,999</td>\n",
       "      <td>https://rukminim2.flixcart.com/image/312/312/k...</td>\n",
       "      <td>Storage128 GBRAM6 GBExpandable Storage256GB  S...</td>\n",
       "    </tr>\n",
       "    <tr>\n",
       "      <th>2</th>\n",
       "      <td>REDMI Note 11 (Starburst White, 64 GB)</td>\n",
       "      <td>4.2</td>\n",
       "      <td>13149</td>\n",
       "      <td>https://rukminim2.flixcart.com/image/312/312/x...</td>\n",
       "      <td>Storage64 GBRAM4  SystemAndroid 11Processor Sp...</td>\n",
       "    </tr>\n",
       "    <tr>\n",
       "      <th>3</th>\n",
       "      <td>OnePlus Nord CE 5G (Blue Void, 256 GB)</td>\n",
       "      <td>4.1</td>\n",
       "      <td>21999</td>\n",
       "      <td>https://rukminim2.flixcart.com/image/312/312/x...</td>\n",
       "      <td>Storage256 GBRAM12  SystemAndroid Q 11Processo...</td>\n",
       "    </tr>\n",
       "    <tr>\n",
       "      <th>4</th>\n",
       "      <td>APPLE iPhone 13 mini (Blue, 128 GB)</td>\n",
       "      <td>4.6</td>\n",
       "      <td>3537</td>\n",
       "      <td>https://rukminim2.flixcart.com/image/312/312/k...</td>\n",
       "      <td>Storage128  SystemiOS 15Processor TypeA15 Bion...</td>\n",
       "    </tr>\n",
       "  </tbody>\n",
       "</table>\n",
       "</div>"
      ],
      "text/plain": [
       "                                        name  ratings    price  \\\n",
       "0  REDMI Note 12 Pro 5G (Onyx Black, 128 GB)      4.2    23999   \n",
       "1        OPPO F11 Pro (Aurora Green, 128 GB)      4.5  ₹20,999   \n",
       "2     REDMI Note 11 (Starburst White, 64 GB)      4.2    13149   \n",
       "3     OnePlus Nord CE 5G (Blue Void, 256 GB)      4.1    21999   \n",
       "4        APPLE iPhone 13 mini (Blue, 128 GB)      4.6     3537   \n",
       "\n",
       "                                              imgURL  \\\n",
       "0  https://rukminim2.flixcart.com/image/312/312/x...   \n",
       "1  https://rukminim2.flixcart.com/image/312/312/k...   \n",
       "2  https://rukminim2.flixcart.com/image/312/312/x...   \n",
       "3  https://rukminim2.flixcart.com/image/312/312/x...   \n",
       "4  https://rukminim2.flixcart.com/image/312/312/k...   \n",
       "\n",
       "                                              corpus  \n",
       "0  Storage128 GBRAM6  SystemAndroid 12Processor T...  \n",
       "1  Storage128 GBRAM6 GBExpandable Storage256GB  S...  \n",
       "2  Storage64 GBRAM4  SystemAndroid 11Processor Sp...  \n",
       "3  Storage256 GBRAM12  SystemAndroid Q 11Processo...  \n",
       "4  Storage128  SystemiOS 15Processor TypeA15 Bion...  "
      ]
     },
     "execution_count": 4,
     "metadata": {},
     "output_type": "execute_result"
    }
   ],
   "source": [
    "df.head()"
   ]
  },
  {
   "cell_type": "code",
   "execution_count": 5,
   "id": "4c8f1828",
   "metadata": {
    "execution": {
     "iopub.execute_input": "2023-07-29T14:23:14.375745Z",
     "iopub.status.busy": "2023-07-29T14:23:14.374906Z",
     "iopub.status.idle": "2023-07-29T14:23:14.381418Z",
     "shell.execute_reply": "2023-07-29T14:23:14.379938Z"
    },
    "papermill": {
     "duration": 0.020916,
     "end_time": "2023-07-29T14:23:14.384361",
     "exception": false,
     "start_time": "2023-07-29T14:23:14.363445",
     "status": "completed"
    },
    "tags": []
   },
   "outputs": [],
   "source": [
    "def random_values(col_name:str,total=6):\n",
    "    for i in range(0,total):\n",
    "        index = np.random.randint(df.shape[0])\n",
    "        print(index,':',df[col_name].iloc[index])        "
   ]
  },
  {
   "cell_type": "code",
   "execution_count": 6,
   "id": "31d63e22",
   "metadata": {
    "execution": {
     "iopub.execute_input": "2023-07-29T14:23:14.406711Z",
     "iopub.status.busy": "2023-07-29T14:23:14.406008Z",
     "iopub.status.idle": "2023-07-29T14:23:14.417631Z",
     "shell.execute_reply": "2023-07-29T14:23:14.416352Z"
    },
    "papermill": {
     "duration": 0.025671,
     "end_time": "2023-07-29T14:23:14.420386",
     "exception": false,
     "start_time": "2023-07-29T14:23:14.394715",
     "status": "completed"
    },
    "tags": []
   },
   "outputs": [
    {
     "name": "stdout",
     "output_type": "stream",
     "text": [
      "2472 : Storage64 GBRAM4 GBExpandable Storage256GB  SystemAndroid 12Processor TypeMediaTek G37Processor Speed2.3 13MP 8MP 8MP 4G Capacity6000 Display Size17.32 cm (6.82 inch)Resolution720 X 1640 PixelsResolution TypeHD+Display TypeHD+ IPSOther Display FeaturesPunch-Hole Display, 90Hz Refresh Rate, 120Hz Touch Sampling Rate, Brightness Upto 450 NITS, 99.8% sRGB Color Gamut, 1500:1 Color Contrast Ratio, 21:9 Aspect Ratio, Eye Care Mode\n",
      "1955 : Storage128 GBRAM8  SystemAndroid Android 13Processor Speed2.4 50MP 5G Capacity6000 Display Size16.51 cm (6.5 inch)Resolution2340X1080\n",
      "1098 : Storage128 GBRAM8  SystemAndroid OxygenOS based on Android 13Processor Speed3.2 50MP 5G Capacity5000 Display Size17.02 cm (6.7 inch)Resolution2772x1240\n",
      "221 : Storage128 GBRAM8 GBExpandable Storage1TB  SystemAndroid 11Processor TypeQualcomm Snapdragon 750GProcessor Speed2.2 48MP 5MP 5MP 20MP 5G Capacity5000 Display Size16.76 cm (6.6 inch)Resolution1600 x 720 PixelsResolution TypeHD+Display TypeHD+ sAMOLED DisplayDisplay Colors16M\n",
      "1320 : Storage64 GBRAM4 GBExpandable Storage256GB  SystemAndroid 11Processor TypeMediaTek Helio G85Processor Speed2 48MP 2MP 8MP 4G Capacity6000 Display Size17.32 cm (6.82 inch)Resolution1640 x 720 PixelsResolution TypeHD+Display TypeHD+ LCD IPS In-cell DisplayOther Display Features90 Hz Refresh Rate, 180 Hz Sampling Rate, 20.5:9 Aspect Ratio, 440 NITS Brightness, 90.6% Screen-to-body Ratio, Eye Care mode, 1500:1 Contrast Ratio\n",
      "1613 : Storage64  SystemiOS 8Processor TypeA8 Chip 8MP 2MP 3G TypeLi-Ion Display Size11.94 cm (4.7 inch)Resolution1334 x 750 PixelsResolution TypeRetina HD DisplayOther Display FeaturesLED Backlit Wide Screen, Finger Print Resistant Oleophobic Coating on Front, Reachability, 500 cd / m2 Maximum Brightness, Multi-touch, Full sRGB Standard, Wide-angle Viewing, IPS Display, Dual-domain Pixels, Display Zoom\n"
     ]
    }
   ],
   "source": [
    "random_values('corpus')"
   ]
  },
  {
   "cell_type": "markdown",
   "id": "8215dc61",
   "metadata": {
    "papermill": {
     "duration": 0.010501,
     "end_time": "2023-07-29T14:23:14.441634",
     "exception": false,
     "start_time": "2023-07-29T14:23:14.431133",
     "status": "completed"
    },
    "tags": []
   },
   "source": [
    "## Lowercasing the corpus values"
   ]
  },
  {
   "cell_type": "code",
   "execution_count": 7,
   "id": "1b26870e",
   "metadata": {
    "execution": {
     "iopub.execute_input": "2023-07-29T14:23:14.466163Z",
     "iopub.status.busy": "2023-07-29T14:23:14.465367Z",
     "iopub.status.idle": "2023-07-29T14:23:14.475608Z",
     "shell.execute_reply": "2023-07-29T14:23:14.474582Z"
    },
    "papermill": {
     "duration": 0.024985,
     "end_time": "2023-07-29T14:23:14.478305",
     "exception": false,
     "start_time": "2023-07-29T14:23:14.453320",
     "status": "completed"
    },
    "tags": []
   },
   "outputs": [],
   "source": [
    "df['corpus'] = df['corpus'].str.lower()"
   ]
  },
  {
   "cell_type": "code",
   "execution_count": 8,
   "id": "cbf9be74",
   "metadata": {
    "execution": {
     "iopub.execute_input": "2023-07-29T14:23:14.500592Z",
     "iopub.status.busy": "2023-07-29T14:23:14.499606Z",
     "iopub.status.idle": "2023-07-29T14:23:14.507263Z",
     "shell.execute_reply": "2023-07-29T14:23:14.505836Z"
    },
    "papermill": {
     "duration": 0.021928,
     "end_time": "2023-07-29T14:23:14.510260",
     "exception": false,
     "start_time": "2023-07-29T14:23:14.488332",
     "status": "completed"
    },
    "tags": []
   },
   "outputs": [
    {
     "name": "stdout",
     "output_type": "stream",
     "text": [
      "2369 : storage128 gbram8 gbexpandable storage1tb  systemandroid 11processor typequalcomm snapdragon 778gprocessor speed2.4 64mp 8mp 5mp 20mp 5g capacity4250 display size16.64 cm (6.55 inch)resolution1080 x 2400resolution typefull hd+gpuadreno 642ldisplay typeamoledother display featuresdolby vision®, 60/90hz refresh rate, hdr10+, corning® gorilla® glass 5\n",
      "2276 : storage64 gbram3 gbexpandable storage512gb  systemandroid pie 9processor typequalcomm snapdragon 439processor speed1.95 13mp 2mp 13mp 2mp 8mp 8mp 4g capacity5000 display size15.8 cm (6.22 inch)resolution1520 x 720 pixelsresolution typehd+gpuadreno 505 (at 650 mhz)display typehd+ ips displayother display features2.5d glass with corning gorilla glass 5 screen protection, 1500:1 contrast ratio, 70.8% ntsc, supports sunlight mode, supports night mode, supports reading mode, supports color temperature adjustment, support standard mode\n",
      "534 : storage128 gbram6 gbexpandable storage1tb  systemandroid 13processor typesnapdragon 685processor speed2.8 50mp 8mp 2mp 50mp 8mp 2mp 50mp 13mp 13mp 2g capacity5000 display size16.94 cm (6.67 inch)resolution2400 x 1080 pixelsresolution typefull hd+ super amoled displaygpuadreno 610display typefull hd+ 120 hz super amoled displayother display features1200nits peak brightness, 240hz touch sampling rate, 4500000:1, dci-p3 colour gamut support\n",
      "2437 : storage64 gbram2 gbexpandable storage512gb  systemandroid 11processor typemediatek helio a22processor speed2 8mp 5mp 5mp 4g capacity5000 display size16.76 cm (6.6 inch)resolution1600 x 720 pixelresolution typehd+display typehd+ lcd ips displayother display featuresaspect ratio: 20:9, 500 nits brightness, 88.43% screen-to-body ratio, 1500:1 contrast ratio, 72% ntsc color gamut\n",
      "1893 : storage32 gbram3 gbexpandable storage1tb  systemandroid q 10processor typemediatek | mt6739ww quad coreprocessor speed1.5 13mp 2mp 2mp 5mp 5mp 4g capacity3000 display size13.46 cm (5.3 inch)resolution1480 x 720$$pixelresolution typefull hd+display typepls tft lcd\n",
      "2216 : storage512  systemios 16processor typea15 bionic chip 12mp 12mp 12mp 12mp 63mp 12mp 12mp 5g notmentioned display size15.49 cm (6.1 inch)resolution2532 x 1170 pixelsresolution typesuper retina xdr displaygpu5 coredisplay typesuper retina xdr displayother display featureshdr display, true tone, wide colour (p3), haptic touch, contrast ratio: 20,00,000:1, max brightness: 800 nits, peak brightness: 1,200 nits, fingerprint resistant oleophobic coating, support for display of multiple languages and characters simultaneously\n"
     ]
    }
   ],
   "source": [
    "random_values('corpus')"
   ]
  },
  {
   "cell_type": "code",
   "execution_count": 9,
   "id": "4ed17092",
   "metadata": {
    "execution": {
     "iopub.execute_input": "2023-07-29T14:23:14.532358Z",
     "iopub.status.busy": "2023-07-29T14:23:14.531901Z",
     "iopub.status.idle": "2023-07-29T14:23:14.547697Z",
     "shell.execute_reply": "2023-07-29T14:23:14.546435Z"
    },
    "papermill": {
     "duration": 0.030024,
     "end_time": "2023-07-29T14:23:14.550356",
     "exception": false,
     "start_time": "2023-07-29T14:23:14.520332",
     "status": "completed"
    },
    "tags": []
   },
   "outputs": [
    {
     "data": {
      "text/plain": [
       "name        0\n",
       "ratings     0\n",
       "price       0\n",
       "imgURL      0\n",
       "corpus     12\n",
       "dtype: int64"
      ]
     },
     "execution_count": 9,
     "metadata": {},
     "output_type": "execute_result"
    }
   ],
   "source": [
    "df.isnull().sum()"
   ]
  },
  {
   "cell_type": "code",
   "execution_count": 10,
   "id": "3628238c",
   "metadata": {},
   "outputs": [
    {
     "name": "stdout",
     "output_type": "stream",
     "text": [
      "<class 'pandas.core.frame.DataFrame'>\n",
      "RangeIndex: 2546 entries, 0 to 2545\n",
      "Data columns (total 5 columns):\n",
      " #   Column   Non-Null Count  Dtype  \n",
      "---  ------   --------------  -----  \n",
      " 0   name     2546 non-null   object \n",
      " 1   ratings  2546 non-null   float64\n",
      " 2   price    2546 non-null   object \n",
      " 3   imgURL   2546 non-null   object \n",
      " 4   corpus   2534 non-null   object \n",
      "dtypes: float64(1), object(4)\n",
      "memory usage: 99.6+ KB\n"
     ]
    }
   ],
   "source": [
    "df.info()"
   ]
  },
  {
   "cell_type": "code",
   "execution_count": 11,
   "id": "6f91300c",
   "metadata": {
    "execution": {
     "iopub.execute_input": "2023-07-29T14:23:14.574019Z",
     "iopub.status.busy": "2023-07-29T14:23:14.573284Z",
     "iopub.status.idle": "2023-07-29T14:23:14.587092Z",
     "shell.execute_reply": "2023-07-29T14:23:14.585741Z"
    },
    "papermill": {
     "duration": 0.029375,
     "end_time": "2023-07-29T14:23:14.590002",
     "exception": false,
     "start_time": "2023-07-29T14:23:14.560627",
     "status": "completed"
    },
    "tags": []
   },
   "outputs": [],
   "source": [
    "df.dropna(inplace=True)"
   ]
  },
  {
   "cell_type": "code",
   "execution_count": 12,
   "id": "27e8737d",
   "metadata": {},
   "outputs": [
    {
     "name": "stdout",
     "output_type": "stream",
     "text": [
      "<class 'pandas.core.frame.DataFrame'>\n",
      "Index: 2534 entries, 0 to 2545\n",
      "Data columns (total 5 columns):\n",
      " #   Column   Non-Null Count  Dtype  \n",
      "---  ------   --------------  -----  \n",
      " 0   name     2534 non-null   object \n",
      " 1   ratings  2534 non-null   float64\n",
      " 2   price    2534 non-null   object \n",
      " 3   imgURL   2534 non-null   object \n",
      " 4   corpus   2534 non-null   object \n",
      "dtypes: float64(1), object(4)\n",
      "memory usage: 118.8+ KB\n"
     ]
    }
   ],
   "source": [
    "df.info()"
   ]
  },
  {
   "cell_type": "code",
   "execution_count": 13,
   "id": "cbf2b53c",
   "metadata": {
    "execution": {
     "iopub.execute_input": "2023-07-29T14:23:14.612008Z",
     "iopub.status.busy": "2023-07-29T14:23:14.611559Z",
     "iopub.status.idle": "2023-07-29T14:23:14.653779Z",
     "shell.execute_reply": "2023-07-29T14:23:14.652212Z"
    },
    "papermill": {
     "duration": 0.056553,
     "end_time": "2023-07-29T14:23:14.656721",
     "exception": false,
     "start_time": "2023-07-29T14:23:14.600168",
     "status": "completed"
    },
    "tags": []
   },
   "outputs": [
    {
     "name": "stdout",
     "output_type": "stream",
     "text": [
      "words max len in corpus is: 1196\n"
     ]
    }
   ],
   "source": [
    "max_len = 0\n",
    "for i in range(0, len(df['corpus'])):\n",
    "    try:\n",
    "        if len(df['corpus'][i]) > max_len:\n",
    "            max_len = len(df['corpus'][i])\n",
    "    except:\n",
    "        pass\n",
    "\n",
    "print(f'words max len in corpus is: {max_len}')\n"
   ]
  },
  {
   "cell_type": "code",
   "execution_count": 14,
   "id": "14293c2c",
   "metadata": {
    "execution": {
     "iopub.execute_input": "2023-07-29T14:23:14.680150Z",
     "iopub.status.busy": "2023-07-29T14:23:14.678783Z",
     "iopub.status.idle": "2023-07-29T14:23:14.703245Z",
     "shell.execute_reply": "2023-07-29T14:23:14.702294Z"
    },
    "papermill": {
     "duration": 0.038388,
     "end_time": "2023-07-29T14:23:14.705569",
     "exception": false,
     "start_time": "2023-07-29T14:23:14.667181",
     "status": "completed"
    },
    "tags": []
   },
   "outputs": [
    {
     "data": {
      "text/html": [
       "<div>\n",
       "<style scoped>\n",
       "    .dataframe tbody tr th:only-of-type {\n",
       "        vertical-align: middle;\n",
       "    }\n",
       "\n",
       "    .dataframe tbody tr th {\n",
       "        vertical-align: top;\n",
       "    }\n",
       "\n",
       "    .dataframe thead th {\n",
       "        text-align: right;\n",
       "    }\n",
       "</style>\n",
       "<table border=\"1\" class=\"dataframe\">\n",
       "  <thead>\n",
       "    <tr style=\"text-align: right;\">\n",
       "      <th></th>\n",
       "      <th>name</th>\n",
       "      <th>ratings</th>\n",
       "      <th>price</th>\n",
       "      <th>imgURL</th>\n",
       "      <th>corpus</th>\n",
       "    </tr>\n",
       "  </thead>\n",
       "  <tbody>\n",
       "    <tr>\n",
       "      <th>418</th>\n",
       "      <td>SAMSUNG Galaxy F41 (Fusion Blue, 128 GB)</td>\n",
       "      <td>4.4</td>\n",
       "      <td>14499</td>\n",
       "      <td>https://rukminim2.flixcart.com/image/312/312/k...</td>\n",
       "      <td>storage128 gbram6 gbexpandable storage512gb  s...</td>\n",
       "    </tr>\n",
       "    <tr>\n",
       "      <th>1521</th>\n",
       "      <td>REDMI Note 11 (Starburst White, 64 GB)</td>\n",
       "      <td>4.2</td>\n",
       "      <td>13945</td>\n",
       "      <td>https://rukminim2.flixcart.com/image/312/312/x...</td>\n",
       "      <td>storage64 gbram6  systemandroid 11processor sp...</td>\n",
       "    </tr>\n",
       "    <tr>\n",
       "      <th>1465</th>\n",
       "      <td>REDMI Note 12 Pro 5G (Glacier Blue, 128 GB)</td>\n",
       "      <td>4.2</td>\n",
       "      <td>24999</td>\n",
       "      <td>https://rukminim2.flixcart.com/image/312/312/x...</td>\n",
       "      <td>storage128 gbram8  systemandroid 12processor t...</td>\n",
       "    </tr>\n",
       "    <tr>\n",
       "      <th>1663</th>\n",
       "      <td>Redmi Note 9 Pro (Glacier White, 128 GB)</td>\n",
       "      <td>4.3</td>\n",
       "      <td>17999</td>\n",
       "      <td>https://rukminim2.flixcart.com/image/312/312/k...</td>\n",
       "      <td>storage128 gbram6 gbexpandable storage512gb  s...</td>\n",
       "    </tr>\n",
       "    <tr>\n",
       "      <th>363</th>\n",
       "      <td>SAMSUNG Guru FM Plus</td>\n",
       "      <td>4.1</td>\n",
       "      <td>1500</td>\n",
       "      <td>https://rukminim2.flixcart.com/image/312/312/m...</td>\n",
       "      <td>storage128 gbram8 gbexpandable storage1tb  fre...</td>\n",
       "    </tr>\n",
       "    <tr>\n",
       "      <th>2188</th>\n",
       "      <td>SAMSUNG Galaxy S23 Ultra 5G (Phantom Black, 25...</td>\n",
       "      <td>4.4</td>\n",
       "      <td>6073</td>\n",
       "      <td>https://rukminim2.flixcart.com/image/312/312/x...</td>\n",
       "      <td>storage256 gbram12  systemandroid 13processor ...</td>\n",
       "    </tr>\n",
       "    <tr>\n",
       "      <th>367</th>\n",
       "      <td>SAMSUNG Galaxy Z Flip3 5G (Phantom Black, 256 GB)</td>\n",
       "      <td>4.3</td>\n",
       "      <td>23463</td>\n",
       "      <td>https://rukminim2.flixcart.com/image/312/312/k...</td>\n",
       "      <td>storage256 gbram8  systemandroid 11processor t...</td>\n",
       "    </tr>\n",
       "    <tr>\n",
       "      <th>540</th>\n",
       "      <td>REDMI K50i 5G (Stealth Black, 128 GB)</td>\n",
       "      <td>4.2</td>\n",
       "      <td>20999</td>\n",
       "      <td>https://rukminim2.flixcart.com/image/312/312/x...</td>\n",
       "      <td>storage128 gbram6  systemandroid 12processor t...</td>\n",
       "    </tr>\n",
       "    <tr>\n",
       "      <th>455</th>\n",
       "      <td>OPPO A71 (Gold, 16 GB)</td>\n",
       "      <td>4.6</td>\n",
       "      <td>₹13,490</td>\n",
       "      <td>https://rukminim2.flixcart.com/image/312/312/j...</td>\n",
       "      <td>storage16 gbram3 gbexpandable storage256gb  sy...</td>\n",
       "    </tr>\n",
       "    <tr>\n",
       "      <th>613</th>\n",
       "      <td>SAMSUNG Galaxy M01 (Red, 32 GB)</td>\n",
       "      <td>4.3</td>\n",
       "      <td>8999</td>\n",
       "      <td>https://rukminim2.flixcart.com/image/312/312/k...</td>\n",
       "      <td>storage32 gbram3 gbexpandable storage512gb  sy...</td>\n",
       "    </tr>\n",
       "  </tbody>\n",
       "</table>\n",
       "</div>"
      ],
      "text/plain": [
       "                                                   name  ratings    price  \\\n",
       "418            SAMSUNG Galaxy F41 (Fusion Blue, 128 GB)      4.4    14499   \n",
       "1521             REDMI Note 11 (Starburst White, 64 GB)      4.2    13945   \n",
       "1465        REDMI Note 12 Pro 5G (Glacier Blue, 128 GB)      4.2    24999   \n",
       "1663           Redmi Note 9 Pro (Glacier White, 128 GB)      4.3    17999   \n",
       "363                                SAMSUNG Guru FM Plus      4.1     1500   \n",
       "2188  SAMSUNG Galaxy S23 Ultra 5G (Phantom Black, 25...      4.4     6073   \n",
       "367   SAMSUNG Galaxy Z Flip3 5G (Phantom Black, 256 GB)      4.3    23463   \n",
       "540               REDMI K50i 5G (Stealth Black, 128 GB)      4.2    20999   \n",
       "455                              OPPO A71 (Gold, 16 GB)      4.6  ₹13,490   \n",
       "613                     SAMSUNG Galaxy M01 (Red, 32 GB)      4.3     8999   \n",
       "\n",
       "                                                 imgURL  \\\n",
       "418   https://rukminim2.flixcart.com/image/312/312/k...   \n",
       "1521  https://rukminim2.flixcart.com/image/312/312/x...   \n",
       "1465  https://rukminim2.flixcart.com/image/312/312/x...   \n",
       "1663  https://rukminim2.flixcart.com/image/312/312/k...   \n",
       "363   https://rukminim2.flixcart.com/image/312/312/m...   \n",
       "2188  https://rukminim2.flixcart.com/image/312/312/x...   \n",
       "367   https://rukminim2.flixcart.com/image/312/312/k...   \n",
       "540   https://rukminim2.flixcart.com/image/312/312/x...   \n",
       "455   https://rukminim2.flixcart.com/image/312/312/j...   \n",
       "613   https://rukminim2.flixcart.com/image/312/312/k...   \n",
       "\n",
       "                                                 corpus  \n",
       "418   storage128 gbram6 gbexpandable storage512gb  s...  \n",
       "1521  storage64 gbram6  systemandroid 11processor sp...  \n",
       "1465  storage128 gbram8  systemandroid 12processor t...  \n",
       "1663  storage128 gbram6 gbexpandable storage512gb  s...  \n",
       "363   storage128 gbram8 gbexpandable storage1tb  fre...  \n",
       "2188  storage256 gbram12  systemandroid 13processor ...  \n",
       "367   storage256 gbram8  systemandroid 11processor t...  \n",
       "540   storage128 gbram6  systemandroid 12processor t...  \n",
       "455   storage16 gbram3 gbexpandable storage256gb  sy...  \n",
       "613   storage32 gbram3 gbexpandable storage512gb  sy...  "
      ]
     },
     "execution_count": 14,
     "metadata": {},
     "output_type": "execute_result"
    }
   ],
   "source": [
    "df.sample(10)"
   ]
  },
  {
   "cell_type": "code",
   "execution_count": 15,
   "id": "219253fe",
   "metadata": {
    "execution": {
     "iopub.execute_input": "2023-07-29T14:23:14.729092Z",
     "iopub.status.busy": "2023-07-29T14:23:14.728611Z",
     "iopub.status.idle": "2023-07-29T14:23:14.735887Z",
     "shell.execute_reply": "2023-07-29T14:23:14.734515Z"
    },
    "papermill": {
     "duration": 0.021899,
     "end_time": "2023-07-29T14:23:14.738521",
     "exception": false,
     "start_time": "2023-07-29T14:23:14.716622",
     "status": "completed"
    },
    "tags": []
   },
   "outputs": [
    {
     "name": "stdout",
     "output_type": "stream",
     "text": [
      "574 : https://rukminim2.flixcart.com/image/312/312/xif0q/mobile/c/z/h/-original-imaghm9y8tceqxmx.jpeg?q=70\n",
      "2508 : https://rukminim2.flixcart.com/image/312/312/jog2nbk0/mobile/d/j/d/mi-redmi-e7t-na-original-imafazxhztrw9gnr.jpeg?q=70\n",
      "784 : https://rukminim2.flixcart.com/image/312/312/kr3tj0w0/mobile/m/r/7/y72-5g-v2060-vivo-original-imag4yngeb9dz4fe.jpeg?q=70\n",
      "512 : https://rukminim2.flixcart.com/image/312/312/xif0q/mobile/0/h/k/-original-imagcg22czc3ggvw.jpeg?q=70\n",
      "392 : https://rukminim2.flixcart.com/image/312/312/kqfj1jk0/mobile/h/l/d/hot-10s-x689-64-4-infinix-original-imag4fk5ajmdtwz4.jpeg?q=70\n",
      "1402 : https://rukminim2.flixcart.com/image/312/312/xif0q/mobile/s/z/1/spark-9-kg5p-tecno-original-imagghbwdhygjag2.jpeg?q=70\n"
     ]
    }
   ],
   "source": [
    "random_values('imgURL')"
   ]
  },
  {
   "cell_type": "markdown",
   "id": "8464d977",
   "metadata": {
    "papermill": {
     "duration": 0.010352,
     "end_time": "2023-07-29T14:23:14.759596",
     "exception": false,
     "start_time": "2023-07-29T14:23:14.749244",
     "status": "completed"
    },
    "tags": []
   },
   "source": [
    "# Model"
   ]
  },
  {
   "cell_type": "markdown",
   "id": "7e72097a",
   "metadata": {
    "papermill": {
     "duration": 0.010942,
     "end_time": "2023-07-29T14:23:14.781410",
     "exception": false,
     "start_time": "2023-07-29T14:23:14.770468",
     "status": "completed"
    },
    "tags": []
   },
   "source": [
    "## vectorization(to convert the words to vectors)   (BOW)"
   ]
  },
  {
   "cell_type": "code",
   "execution_count": 16,
   "id": "ebd16659",
   "metadata": {
    "execution": {
     "iopub.execute_input": "2023-07-29T14:23:14.804920Z",
     "iopub.status.busy": "2023-07-29T14:23:14.804097Z",
     "iopub.status.idle": "2023-07-29T14:23:16.028485Z",
     "shell.execute_reply": "2023-07-29T14:23:16.027233Z"
    },
    "papermill": {
     "duration": 1.239305,
     "end_time": "2023-07-29T14:23:16.031444",
     "exception": false,
     "start_time": "2023-07-29T14:23:14.792139",
     "status": "completed"
    },
    "tags": []
   },
   "outputs": [],
   "source": [
    "from sklearn.feature_extraction.text import CountVectorizer "
   ]
  },
  {
   "cell_type": "code",
   "execution_count": 17,
   "id": "dd9126df",
   "metadata": {
    "execution": {
     "iopub.execute_input": "2023-07-29T14:23:16.054659Z",
     "iopub.status.busy": "2023-07-29T14:23:16.054232Z",
     "iopub.status.idle": "2023-07-29T14:23:16.059681Z",
     "shell.execute_reply": "2023-07-29T14:23:16.058474Z"
    },
    "papermill": {
     "duration": 0.020018,
     "end_time": "2023-07-29T14:23:16.062215",
     "exception": false,
     "start_time": "2023-07-29T14:23:16.042197",
     "status": "completed"
    },
    "tags": []
   },
   "outputs": [],
   "source": [
    "cont_vect = CountVectorizer(max_features=1000)"
   ]
  },
  {
   "cell_type": "code",
   "execution_count": 18,
   "id": "111c3555",
   "metadata": {
    "execution": {
     "iopub.execute_input": "2023-07-29T14:23:16.086429Z",
     "iopub.status.busy": "2023-07-29T14:23:16.086011Z",
     "iopub.status.idle": "2023-07-29T14:23:16.276155Z",
     "shell.execute_reply": "2023-07-29T14:23:16.274881Z"
    },
    "papermill": {
     "duration": 0.205588,
     "end_time": "2023-07-29T14:23:16.279052",
     "exception": false,
     "start_time": "2023-07-29T14:23:16.073464",
     "status": "completed"
    },
    "tags": []
   },
   "outputs": [],
   "source": [
    "arrays = cont_vect.fit_transform(df['corpus'])"
   ]
  },
  {
   "cell_type": "code",
   "execution_count": 19,
   "id": "a6768b09",
   "metadata": {
    "execution": {
     "iopub.execute_input": "2023-07-29T14:23:16.302863Z",
     "iopub.status.busy": "2023-07-29T14:23:16.302443Z",
     "iopub.status.idle": "2023-07-29T14:23:16.324891Z",
     "shell.execute_reply": "2023-07-29T14:23:16.323612Z"
    },
    "papermill": {
     "duration": 0.037991,
     "end_time": "2023-07-29T14:23:16.327758",
     "exception": false,
     "start_time": "2023-07-29T14:23:16.289767",
     "status": "completed"
    },
    "tags": []
   },
   "outputs": [],
   "source": [
    "vectors = arrays.toarray()"
   ]
  },
  {
   "cell_type": "code",
   "execution_count": 20,
   "id": "a64da25b",
   "metadata": {
    "execution": {
     "iopub.execute_input": "2023-07-29T14:23:16.351488Z",
     "iopub.status.busy": "2023-07-29T14:23:16.350642Z",
     "iopub.status.idle": "2023-07-29T14:23:16.363543Z",
     "shell.execute_reply": "2023-07-29T14:23:16.362664Z"
    },
    "papermill": {
     "duration": 0.028213,
     "end_time": "2023-07-29T14:23:16.366679",
     "exception": false,
     "start_time": "2023-07-29T14:23:16.338466",
     "status": "completed"
    },
    "tags": []
   },
   "outputs": [
    {
     "data": {
      "text/plain": [
       "array(['00', '000', '02', '03', '04', '05', '07', '08', '09', '0mp',\n",
       "       '0primary', '0processor', '10', '100', '1000', '100000', '1000000',\n",
       "       '100mp', '103', '104', '106', '1080', '1080processor',\n",
       "       '1080resolution', '108mp', '10mp', '10processor', '11', '1100',\n",
       "       '1125', '1170', '1179', '11primary', '11processor', '12', '120',\n",
       "       '1200', '1200processor', '120hz', '1242', '1280processor', '1284',\n",
       "       '1290', '12mp', '12primary', '12processor', '13', '1300', '1330',\n",
       "       '1334', '135', '13mp', '13processor', '14', '1400', '144', '1440',\n",
       "       '144hz', '1480', '14processor', '15', '1500', '1544',\n",
       "       '15processor', '16', '160', '1600', '16000', '1600resolution',\n",
       "       '1612', '16mp', '16processor', '18', '180', '1800', '180hz', '19',\n",
       "       '1920', '1920hz', '1processor', '20', '200', '2000000', '200mp',\n",
       "       '20mp', '21', '22', '23', '2340', '24', '240', '2400',\n",
       "       '2400resolution', '2408', '240hz', '2460', '24mp', '25mm', '25mp',\n",
       "       '26', '27', '28', '2d', '2g', '2ghzprocessor', '2mm', '2mp',\n",
       "       '2processor', '2x', '2xhd', '30', '308display', '30hz', '32',\n",
       "       '326', '32mm', '32mp', '33', '35', '36', '360', '37', '38', '39',\n",
       "       '3d', '3dﾠtouch', '3g', '3ghzprocessor', '3mp', '40', '400',\n",
       "       '400nits', '401', '4096', '41', '420', '420nits', '425processor',\n",
       "       '43', '430', '439processor', '44', '440', '44mm', '44mp', '45',\n",
       "       '450', '4500000', '450processor', '460processor', '46mm', '47',\n",
       "       '48', '480', '480nits', '488', '48mp', '49', '4g', '4ghzprocessor',\n",
       "       '4mp', '50', '500', '5000000', '500nit', '500nits', '505',\n",
       "       '505display', '505other', '506display', '509display', '50hz',\n",
       "       '50mp', '51', '512display', '515', '52', '53', '54', '55', '550',\n",
       "       '56', '57', '58', '580', '59', '5d', '5g', '5gprocessor', '5mp',\n",
       "       '60', '600', '60000', '6020processor', '60hz', '60mp', '61', '610',\n",
       "       '610display', '612display', '616display', '618display',\n",
       "       '619display', '62', '620display', '625', '625processor',\n",
       "       '636processor', '63mp', '64', '640', '640display', '642ldisplay',\n",
       "       '64mp', '65', '650', '650display', '66', '660', '660display',\n",
       "       '662processor', '665', '665processor', '67', '675processor', '680',\n",
       "       '680processor', '69', '695', '695processor', '6mm', '6processor',\n",
       "       '70', '700', '700processor', '7050processor', '70mm', '71', '712',\n",
       "       '72', '720', '720gprocessor', '720resolution', '73', '730display',\n",
       "       '730processor', '732gprocessor', '74', '740display', '75', '750',\n",
       "       '750gprocessor', '76', '765gprocessor', '77', '778g',\n",
       "       '778gprocessor', '78', '7m', '7mother', '7mp', '7processor', '7t',\n",
       "       '80', '800', '800uprocessor', '81', '810', '8100processor',\n",
       "       '810processor', '82', '828', '83', '84', '85', '850',\n",
       "       '850processor', '855', '86', '865processor', '87', '870processor',\n",
       "       '87mm', '88', '888', '888processor', '89', '8mp', '8processor',\n",
       "       '90', '900', '900processor', '90hz', '90nit', '91', '92',\n",
       "       '920processor', '93', '94', '95', '950', '96', '9611',\n",
       "       '9611processor', '97', '98', '98mm', '99', '9processor', 'a10',\n",
       "       'a11', 'a22processor', 'a618display', 'a9', 'aa', 'access',\n",
       "       'active', 'adaptive', 'adjustment', 'adreno', 'agc',\n",
       "       'aieprocessor', 'all', 'always', 'amazon', 'ambient', 'amoled',\n",
       "       'amoleddisplay', 'amoledhd', 'amoledother', 'an', 'and', 'android',\n",
       "       'angle', 'angles', 'anti', 'anywhere', 'area', 'arrangement',\n",
       "       'aspect', 'at', 'auo', 'auto', 'back', 'backlit', 'based', 'bazel',\n",
       "       'bezel', 'billionother', 'bionic', 'bit', 'blue', 'body', 'border',\n",
       "       'bottom', 'brightness', 'by', 'c3', 'camera', 'capacitive',\n",
       "       'capacity1000', 'capacity1440', 'capacity1715', 'capacity2750',\n",
       "       'capacity2915', 'capacity3000', 'capacity3080', 'capacity3180',\n",
       "       'capacity3200', 'capacity3300', 'capacity3400', 'capacity3500',\n",
       "       'capacity3700', 'capacity3900', 'capacity4000', 'capacity4015',\n",
       "       'capacity4020', 'capacity4030', 'capacity4050', 'capacity4100',\n",
       "       'capacity4115', 'capacity4200', 'capacity4230', 'capacity4250',\n",
       "       'capacity4300', 'capacity4400', 'capacity4500', 'capacity4520',\n",
       "       'capacity4600', 'capacity4700', 'capacity4800', 'capacity5000',\n",
       "       'capacity5020', 'capacity5160', 'capacity6000', 'capacity7000',\n",
       "       'capacity800', 'care', 'cd', 'cell', 'celldisplay', 'cellother',\n",
       "       'certification', 'certified', 'channel', 'characters', 'chip',\n",
       "       'clear', 'clock', 'clocked', 'cm', 'coating', 'cof', 'cog',\n",
       "       'color', 'coloros', 'colorother', 'colors', 'colors1', 'colors10',\n",
       "       'colors16', 'colors16m', 'colors16mother', 'colors2kother',\n",
       "       'colors65', 'colorscontrast', 'colour', 'comfort', 'contrast',\n",
       "       'control', 'core', 'coredisplay', 'coreocta', 'coreprocessor',\n",
       "       'corning', 'cover', 'coverage', 'curved', 'cut', 'dc', 'dci',\n",
       "       'defination', 'degree', 'design', 'designed', 'dewdrop',\n",
       "       'diagonal', 'dimensity', 'dimming', 'dinorex', 'display',\n",
       "       'displaydisplay', 'displaygpu4', 'displaygpu5', 'displaygpuadreno',\n",
       "       'displaygpuarm', 'displaygpupowervr', 'displaygpuqualcomm',\n",
       "       'displayhd', 'displaymate', 'displayother', 'dolby', 'domain',\n",
       "       'dot', 'down', 'dual', 'dynamic', 'e3', 'edge', 'edition',\n",
       "       'enhancer', 'experience', 'exynos', 'eye', 'f01', 'face', 'faster',\n",
       "       'features120', 'features1200nits', 'features120hz', 'features1300',\n",
       "       'features1400', 'features16', 'features180', 'features180hz',\n",
       "       'features19', 'features2', 'features20', 'features6', 'features60',\n",
       "       'features89', 'features90', 'features90hz', 'featuresadaptive',\n",
       "       'featuresaspect', 'featuresbezel', 'featurescontrast',\n",
       "       'featurescorning', 'featuresdisplay', 'featuresdolby',\n",
       "       'featuresdynamic', 'featuresfullview', 'featureshalo',\n",
       "       'featureshdr', 'featuresin', 'featuresips', 'featuresled',\n",
       "       'featuresmulti', 'featuresnarrow', 'featureson', 'featuresrefresh',\n",
       "       'featuresretina', 'featuresscreen', 'featuressuper',\n",
       "       'featurestouch', 'featuresvideo', 'featureswidescreen', 'fhd',\n",
       "       'film', 'finger', 'fingerprint', 'fluiddisplay', 'for', 'fps',\n",
       "       'frame', 'frequencygsm', 'from', 'front', 'full', 'fullview',\n",
       "       'fusion', 'g25processor', 'g35processor', 'g37processor', 'g52',\n",
       "       'g52display', 'g57', 'g57display', 'g610', 'g68', 'g68display',\n",
       "       'g70processor', 'g71', 'g72', 'g76', 'g76display', 'g77',\n",
       "       'g77display', 'g80processor', 'g85processor', 'g88processor',\n",
       "       'g90tprocessor', 'g95processor', 'g96processor', 'g99processor',\n",
       "       'game', 'gameplay', 'gamut', 'gbexpandable', 'gbram1', 'gbram12',\n",
       "       'gbram128', 'gbram16', 'gbram2', 'gbram3', 'gbram4', 'gbram6',\n",
       "       'gbram8', 'gbtotal', 'ge8230display', 'ge8320', 'ge8320display',\n",
       "       'ge8320other', 'ge8322display', 'gen', 'generation', 'gentle',\n",
       "       'gestures', 'gff', 'gg3', 'gg5', 'ghz', 'ghzprocessor', 'glass',\n",
       "       'go', 'goprocessor', 'gorilla', 'gpu', 'gpuadreno', 'gpuarm',\n",
       "       'gpuge8320display', 'gpuimagination', 'gpuimg', 'gpumali',\n",
       "       'gpupowervr', 'gpuqualcomm', 'graphics', 'gt7600', 'halo',\n",
       "       'haptic', 'hbm', 'hd', 'hdgpuadreno', 'hdgpuarm', 'hdr', 'hdr10',\n",
       "       'helio', 'high', 'hios', 'hole', 'hz', 'in', 'incell', 'inch',\n",
       "       'increase', 'infinity', 'intensive', 'ion', 'ips', 'ipsdisplay',\n",
       "       'ipsother', 'is', 'island', 'kitkat', 'languages', 'layer', 'lcd',\n",
       "       'lcddisplay', 'lcdhd', 'lcdother', 'led', 'left', 'level', 'light',\n",
       "       'liquid', 'local', 'lollipop', 'low', 'lower', 'ltps', 'm2',\n",
       "       'mali', 'marshmallow', 'material', 'max', 'maximum', 'mbram4',\n",
       "       'mc2', 'mc2display', 'mc3display', 'mc4display', 'mc6display',\n",
       "       'mc9display', 'mediatek', 'memc', 'memory128gb', 'memory64gb',\n",
       "       'metal', 'mhz', 'mhzdisplay', 'mhzother', 'millionother', 'min',\n",
       "       'minimum', 'miui', 'mm', 'mn228', 'mobile', 'mode', 'more',\n",
       "       'mother', 'motion', 'mp1display', 'mp2display', 'mp3',\n",
       "       'mp3display', 'mp4display', 'mp5display', 'mt6750',\n",
       "       'mt6762processor', 'mt6765', 'mt6771v', 'multi', 'multiple',\n",
       "       'nano', 'narrow', 'neg', 'new', 'night', 'nit', 'nits', 'nm', 'no',\n",
       "       'normal', 'notch', 'notmentioned', 'nougat', 'ntsc', 'octa', 'of',\n",
       "       'off', 'oled', 'oleophobic', 'oleophpbic', 'on', 'oncell',\n",
       "       'oneplus', 'optimised', 'oreo', 'os', 'other', 'outdoor',\n",
       "       'outside', 'over', 'oxygen', 'oxygenos', 'oxygenosprocessor',\n",
       "       'p22', 'p22processor', 'p2i', 'p3', 'p35', 'p35processor', 'p60',\n",
       "       'p70', 'p70processor', 'p95processor', 'panda', 'panel', 'peak',\n",
       "       'percent', 'performance', 'peripheral', 'phone', 'pie', 'pixel',\n",
       "       'pixelgpuadreno', 'pixelresolution', 'pixels', 'pixelsdisplay',\n",
       "       'pixelsgpuadreno', 'pixelsgpuapple', 'pixelsgpuarm',\n",
       "       'pixelsresolution', 'platformprocessor', 'playback',\n",
       "       'plusprocessor', 'points', 'poled', 'powervr', 'ppi', 'print',\n",
       "       'pro', 'process', 'processor', 'processorprocessor', 'promotion',\n",
       "       'proof', 'proportion', 'protected', 'protection', 'protective',\n",
       "       'protector', 'pwm', 'pwm2160hz', 'quad', 'rate', 'rates', 'ratio',\n",
       "       'rdother', 'reachability', 'reading', 'refresh', 'repellent',\n",
       "       'resistant', 'resolution', 'resolution1080', 'resolution1080x2400',\n",
       "       'resolution1136', 'resolution128', 'resolution1280',\n",
       "       'resolution1334', 'resolution1440', 'resolution1520',\n",
       "       'resolution1560', 'resolution1600', 'resolution1600x720',\n",
       "       'resolution1612', 'resolution1640', 'resolution1650',\n",
       "       'resolution1650x720', 'resolution1792', 'resolution1920',\n",
       "       'resolution1920x1080', 'resolution2160', 'resolution2160x1080',\n",
       "       'resolution2280', 'resolution2340', 'resolution2376',\n",
       "       'resolution2400', 'resolution2400x1080', 'resolution2404',\n",
       "       'resolution2408', 'resolution2412', 'resolution2436',\n",
       "       'resolution2460', 'resolution2480', 'resolution2532',\n",
       "       'resolution2556', 'resolution2640', 'resolution2688',\n",
       "       'resolution2778', 'resolution2796', 'resolution3088',\n",
       "       'resolution3216', 'resolution3216x1440', 'resolution720',\n",
       "       'resolution720x1600', 'resolution750', 'retina', 'rheinland',\n",
       "       'right', 's5e8535', 'samoled', 'sampling', 'samsung', 'saturation',\n",
       "       'sc9863a1processor', 'schott', 'scratch', 'screen', 'sdm450',\n",
       "       'sealing', 'seamless', 'sensor', 'sgs', 'si', 'side',\n",
       "       'simultaneously', 'six', 'size', 'size10', 'size11', 'size12',\n",
       "       'size13', 'size14', 'size15', 'size16', 'size17', 'size19',\n",
       "       'size3', 'size5', 'slim', 'smart', 'smooth', 'snapdragon', 'space',\n",
       "       'speed1', 'speed2', 'speed208', 'speed3', 'splash', 'srgb',\n",
       "       'standard', 'static', 'storage1024', 'storage128', 'storage128gb',\n",
       "       'storage16', 'storage1tb', 'storage2', 'storage256',\n",
       "       'storage256gb', 'storage2tb', 'storage32', 'storage512',\n",
       "       'storage512gb', 'storage64', 'storage8', 'stroboscopic',\n",
       "       'sunlight', 'sunshine', 'super', 'supplier', 'support', 'supports',\n",
       "       'supportyes', 'supportyesdisplay', 'supportyesother', 'sync',\n",
       "       'systemandroid', 'systemandroidprocessor', 'systemios', 't2x',\n",
       "       't606processor', 't610processor', 't612processor', 't616processor',\n",
       "       't830', 'tap', 'technology', 'technologyhd', 'technologyother',\n",
       "       'temperature', 'texture', 'tft', 'tftother', 'than', 'that', 'the',\n",
       "       'to', 'tone', 'top', 'touch', 'tp', 'true', 'tuv', 'typ', 'type',\n",
       "       'type2', 'typea10', 'typea11', 'typea12', 'typea13', 'typea14',\n",
       "       'typea15', 'typea16', 'typea6', 'typea8', 'typea9', 'typeall',\n",
       "       'typeamoled', 'typeamoleddisplay', 'typeamoledother', 'typeapple',\n",
       "       'typecapacitive', 'typedimensity', 'typedotdisplayhd',\n",
       "       'typedynamic', 'typeexynos', 'typefhd', 'typefluid', 'typefull',\n",
       "       'typeg37processor', 'typehd', 'typehddisplay', 'typehdgpuadreno',\n",
       "       'typehdgpumali', 'typehelio', 'typein', 'typeips', 'typeipsother',\n",
       "       'typelcdhd', 'typeled', 'typeli', 'typeliquid', 'typemediatek',\n",
       "       'typemt6763tprocessor', 'typemtk', 'typeocta', 'typepls',\n",
       "       'typequad', 'typequalcomm', 'typeretina', 'typesamsung', 'typesec',\n",
       "       'typesnapdragon', 'typesuper', 'typetft', 'typetftdisplay',\n",
       "       'typetftother', 'typeunisoc', 'typewidescreen', 'typical', 'tüv',\n",
       "       'ultra', 'under', 'unlock', 'up', 'upper', 'upto', 'usb', 'value',\n",
       "       'victus', 'view', 'viewing', 'vision', 'visuals', 'vivid', 'wake',\n",
       "       'water', 'waterdrop', 'wide', 'widescreen', 'will', 'with', 'xdr',\n",
       "       'xensation', 'you', 'zoom'], dtype=object)"
      ]
     },
     "execution_count": 20,
     "metadata": {},
     "output_type": "execute_result"
    }
   ],
   "source": [
    "cont_vect.get_feature_names_out()"
   ]
  },
  {
   "cell_type": "markdown",
   "id": "44af0600",
   "metadata": {
    "papermill": {
     "duration": 0.011531,
     "end_time": "2023-07-29T14:23:16.389632",
     "exception": false,
     "start_time": "2023-07-29T14:23:16.378101",
     "status": "completed"
    },
    "tags": []
   },
   "source": [
    "## Calculating cosine similarity for recommendation"
   ]
  },
  {
   "cell_type": "code",
   "execution_count": 21,
   "id": "c01a6316",
   "metadata": {
    "execution": {
     "iopub.execute_input": "2023-07-29T14:23:16.416316Z",
     "iopub.status.busy": "2023-07-29T14:23:16.415831Z",
     "iopub.status.idle": "2023-07-29T14:23:16.532602Z",
     "shell.execute_reply": "2023-07-29T14:23:16.531224Z"
    },
    "papermill": {
     "duration": 0.133065,
     "end_time": "2023-07-29T14:23:16.535510",
     "exception": false,
     "start_time": "2023-07-29T14:23:16.402445",
     "status": "completed"
    },
    "tags": []
   },
   "outputs": [],
   "source": [
    "from sklearn.metrics.pairwise import cosine_similarity"
   ]
  },
  {
   "cell_type": "code",
   "execution_count": 22,
   "id": "cd994a46",
   "metadata": {
    "execution": {
     "iopub.execute_input": "2023-07-29T14:23:16.559996Z",
     "iopub.status.busy": "2023-07-29T14:23:16.559513Z",
     "iopub.status.idle": "2023-07-29T14:23:16.774743Z",
     "shell.execute_reply": "2023-07-29T14:23:16.773075Z"
    },
    "papermill": {
     "duration": 0.232999,
     "end_time": "2023-07-29T14:23:16.779821",
     "exception": false,
     "start_time": "2023-07-29T14:23:16.546822",
     "status": "completed"
    },
    "tags": []
   },
   "outputs": [
    {
     "data": {
      "text/plain": [
       "(2534, 2534)"
      ]
     },
     "execution_count": 22,
     "metadata": {},
     "output_type": "execute_result"
    }
   ],
   "source": [
    "similarity = cosine_similarity(vectors)\n",
    "similarity.shape # this is because I have calculated the similarity among all the rows to all the rows(confusing?? but try to understand)"
   ]
  },
  {
   "cell_type": "code",
   "execution_count": 25,
   "id": "227611f9",
   "metadata": {
    "execution": {
     "iopub.execute_input": "2023-07-29T14:23:16.833433Z",
     "iopub.status.busy": "2023-07-29T14:23:16.832381Z",
     "iopub.status.idle": "2023-07-29T14:23:16.848472Z",
     "shell.execute_reply": "2023-07-29T14:23:16.846829Z"
    },
    "papermill": {
     "duration": 0.046028,
     "end_time": "2023-07-29T14:23:16.851181",
     "exception": false,
     "start_time": "2023-07-29T14:23:16.805153",
     "status": "completed"
    },
    "tags": []
   },
   "outputs": [
    {
     "data": {
      "text/plain": [
       "array([0.35556531, 0.1548516 , 1.        , ..., 0.58823529, 0.19988898,\n",
       "       0.42452948])"
      ]
     },
     "execution_count": 25,
     "metadata": {},
     "output_type": "execute_result"
    }
   ],
   "source": [
    "similarity[2]"
   ]
  },
  {
   "cell_type": "code",
   "execution_count": 26,
   "id": "eab6fee3",
   "metadata": {
    "execution": {
     "iopub.execute_input": "2023-07-29T14:23:16.878020Z",
     "iopub.status.busy": "2023-07-29T14:23:16.876936Z",
     "iopub.status.idle": "2023-07-29T14:23:16.889821Z",
     "shell.execute_reply": "2023-07-29T14:23:16.888504Z"
    },
    "papermill": {
     "duration": 0.029012,
     "end_time": "2023-07-29T14:23:16.892331",
     "exception": false,
     "start_time": "2023-07-29T14:23:16.863319",
     "status": "completed"
    },
    "tags": []
   },
   "outputs": [
    {
     "data": {
      "text/plain": [
       "[(68, np.float64(0.9999999999999999)),\n",
       " (303, np.float64(0.9999999999999999)),\n",
       " (616, np.float64(0.9850746268656715)),\n",
       " (1461, np.float64(0.9850746268656715)),\n",
       " (457, np.float64(0.9701492537313432)),\n",
       " (1027, np.float64(0.9701492537313432)),\n",
       " (1735, np.float64(0.9701492537313432)),\n",
       " (569, np.float64(0.9468131937613656)),\n",
       " (1123, np.float64(0.9468131937613656)),\n",
       " (1540, np.float64(0.9468131937613656))]"
      ]
     },
     "execution_count": 26,
     "metadata": {},
     "output_type": "execute_result"
    }
   ],
   "source": [
    "sorted(list(enumerate(similarity[0])),reverse=True,key=lambda x:x[1])[1:11]"
   ]
  },
  {
   "cell_type": "code",
   "execution_count": 27,
   "id": "c6f27ea2",
   "metadata": {
    "execution": {
     "iopub.execute_input": "2023-07-29T14:23:16.919030Z",
     "iopub.status.busy": "2023-07-29T14:23:16.918326Z",
     "iopub.status.idle": "2023-07-29T14:23:16.925733Z",
     "shell.execute_reply": "2023-07-29T14:23:16.924478Z"
    },
    "papermill": {
     "duration": 0.024763,
     "end_time": "2023-07-29T14:23:16.928866",
     "exception": false,
     "start_time": "2023-07-29T14:23:16.904103",
     "status": "completed"
    },
    "tags": []
   },
   "outputs": [],
   "source": [
    "def recommend(mobile):\n",
    "    mobile_index = df[df['name']==mobile].index[0]\n",
    "    similarity_array = similarity[mobile_index]\n",
    "    similar_10_mobiles = sorted(list(enumerate(similarity_array)),reverse=True,key=lambda x:x[1])[1:11]\n",
    "    \n",
    "    for i in similar_10_mobiles:\n",
    "        print(df['name'].iloc[i[0]])\n",
    "\n"
   ]
  },
  {
   "cell_type": "code",
   "execution_count": 35,
   "id": "550c3421",
   "metadata": {
    "execution": {
     "iopub.execute_input": "2023-07-29T14:23:16.955085Z",
     "iopub.status.busy": "2023-07-29T14:23:16.954348Z",
     "iopub.status.idle": "2023-07-29T14:23:16.965447Z",
     "shell.execute_reply": "2023-07-29T14:23:16.964174Z"
    },
    "papermill": {
     "duration": 0.027294,
     "end_time": "2023-07-29T14:23:16.968320",
     "exception": false,
     "start_time": "2023-07-29T14:23:16.941026",
     "status": "completed"
    },
    "tags": []
   },
   "outputs": [
    {
     "name": "stdout",
     "output_type": "stream",
     "text": [
      "vivo Y56 5G (Black Engine, 128 GB)\n",
      "vivo Y56 5G (Black Engine, 128 GB)\n",
      "vivo Y56 5G (Orange Shimmer, 128 GB)\n",
      "vivo T2x 5G (Aurora Gold, 128 GB)\n",
      "vivo T2x 5G (Glimmer Black, 128 GB)\n",
      "vivo T2x 5G (Marine Blue, 128 GB)\n",
      "vivo Y36 (Meteor Black, 128 GB)\n",
      "vivo Y36 (Vibrant Gold, 128 GB)\n",
      "vivo T2x 5G (Aurora Gold, 128 GB)\n",
      "vivo T2x 5G (Marine Blue, 128 GB)\n"
     ]
    }
   ],
   "source": [
    "recommend('APPLE iPhone 13 (Blue, 128 GB)')"
   ]
  },
  {
   "cell_type": "markdown",
   "id": "d601b2b2",
   "metadata": {
    "papermill": {
     "duration": 0.012089,
     "end_time": "2023-07-29T14:23:16.992478",
     "exception": false,
     "start_time": "2023-07-29T14:23:16.980389",
     "status": "completed"
    },
    "tags": []
   },
   "source": [
    "## making Pickle file of df and similarities to use in web"
   ]
  },
  {
   "cell_type": "code",
   "execution_count": 23,
   "id": "92efd32e",
   "metadata": {
    "execution": {
     "iopub.execute_input": "2023-07-29T14:23:17.020189Z",
     "iopub.status.busy": "2023-07-29T14:23:17.019022Z",
     "iopub.status.idle": "2023-07-29T14:23:17.024774Z",
     "shell.execute_reply": "2023-07-29T14:23:17.023791Z"
    },
    "papermill": {
     "duration": 0.022591,
     "end_time": "2023-07-29T14:23:17.027523",
     "exception": false,
     "start_time": "2023-07-29T14:23:17.004932",
     "status": "completed"
    },
    "tags": []
   },
   "outputs": [],
   "source": [
    "os.makedirs(r'src\\model',exist_ok=True)"
   ]
  },
  {
   "cell_type": "code",
   "execution_count": 24,
   "id": "3d68ef74",
   "metadata": {
    "execution": {
     "iopub.execute_input": "2023-07-29T14:23:17.054511Z",
     "iopub.status.busy": "2023-07-29T14:23:17.053661Z",
     "iopub.status.idle": "2023-07-29T14:23:17.063881Z",
     "shell.execute_reply": "2023-07-29T14:23:17.062416Z"
    },
    "papermill": {
     "duration": 0.026709,
     "end_time": "2023-07-29T14:23:17.066977",
     "exception": false,
     "start_time": "2023-07-29T14:23:17.040268",
     "status": "completed"
    },
    "tags": []
   },
   "outputs": [],
   "source": [
    "pickle.dump(obj=df,file=open(file=r'src\\model\\dataframe.pkl',mode='wb'))"
   ]
  },
  {
   "cell_type": "code",
   "execution_count": 25,
   "id": "8c8eb4b4",
   "metadata": {
    "execution": {
     "iopub.execute_input": "2023-07-29T14:23:17.093424Z",
     "iopub.status.busy": "2023-07-29T14:23:17.092982Z",
     "iopub.status.idle": "2023-07-29T14:23:17.214402Z",
     "shell.execute_reply": "2023-07-29T14:23:17.213155Z"
    },
    "papermill": {
     "duration": 0.138892,
     "end_time": "2023-07-29T14:23:17.217708",
     "exception": false,
     "start_time": "2023-07-29T14:23:17.078816",
     "status": "completed"
    },
    "tags": []
   },
   "outputs": [],
   "source": [
    "pickle.dump(obj=similarity,file=open(file=r'src\\model\\similarity.pkl',mode='wb'))"
   ]
  },
  {
   "cell_type": "code",
   "execution_count": null,
   "id": "eb0e5bce",
   "metadata": {
    "papermill": {
     "duration": 0.011526,
     "end_time": "2023-07-29T14:23:17.241201",
     "exception": false,
     "start_time": "2023-07-29T14:23:17.229675",
     "status": "completed"
    },
    "tags": []
   },
   "outputs": [],
   "source": []
  }
 ],
 "metadata": {
  "kernelspec": {
   "display_name": "venv",
   "language": "python",
   "name": "python3"
  },
  "language_info": {
   "codemirror_mode": {
    "name": "ipython",
    "version": 3
   },
   "file_extension": ".py",
   "mimetype": "text/x-python",
   "name": "python",
   "nbconvert_exporter": "python",
   "pygments_lexer": "ipython3",
   "version": "3.12.5"
  },
  "papermill": {
   "default_parameters": {},
   "duration": 16.654361,
   "end_time": "2023-07-29T14:23:18.276427",
   "environment_variables": {},
   "exception": null,
   "input_path": "__notebook__.ipynb",
   "output_path": "__notebook__.ipynb",
   "parameters": {},
   "start_time": "2023-07-29T14:23:01.622066",
   "version": "2.4.0"
  }
 },
 "nbformat": 4,
 "nbformat_minor": 5
}
