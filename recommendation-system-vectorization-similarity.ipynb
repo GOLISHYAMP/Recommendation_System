{
 "cells": [
  {
   "cell_type": "code",
   "execution_count": 1,
   "id": "7e0bd400",
   "metadata": {
    "execution": {
     "iopub.execute_input": "2023-07-29T14:23:14.237756Z",
     "iopub.status.busy": "2023-07-29T14:23:14.236871Z",
     "iopub.status.idle": "2023-07-29T14:23:14.252483Z",
     "shell.execute_reply": "2023-07-29T14:23:14.251252Z"
    },
    "papermill": {
     "duration": 0.031126,
     "end_time": "2023-07-29T14:23:14.255645",
     "exception": false,
     "start_time": "2023-07-29T14:23:14.224519",
     "status": "completed"
    },
    "tags": []
   },
   "outputs": [],
   "source": [
    "import pandas as pd\n",
    "import numpy as np\n",
    "import os\n",
    "from typing import Callable # this is to define test_func functions dtype as function itself\n",
    "import re # for regural expression\n",
    "import warnings\n",
    "warnings.filterwarnings('ignore')\n",
    "import pickle # for pickling my model"
   ]
  },
  {
   "cell_type": "code",
   "execution_count": 2,
   "id": "53e7057d",
   "metadata": {
    "execution": {
     "iopub.execute_input": "2023-07-29T14:23:14.278905Z",
     "iopub.status.busy": "2023-07-29T14:23:14.278475Z",
     "iopub.status.idle": "2023-07-29T14:23:14.350683Z",
     "shell.execute_reply": "2023-07-29T14:23:14.349355Z"
    },
    "papermill": {
     "duration": 0.088013,
     "end_time": "2023-07-29T14:23:14.353638",
     "exception": false,
     "start_time": "2023-07-29T14:23:14.265625",
     "status": "completed"
    },
    "tags": []
   },
   "outputs": [],
   "source": [
    "df = pd.read_csv(r'/kaggle/input/mobile-recommendation-system-dataset/mobile_recommendation_system_dataset.csv',index_col=False)"
   ]
  },
  {
   "cell_type": "code",
   "execution_count": 3,
   "id": "4c8f1828",
   "metadata": {
    "execution": {
     "iopub.execute_input": "2023-07-29T14:23:14.375745Z",
     "iopub.status.busy": "2023-07-29T14:23:14.374906Z",
     "iopub.status.idle": "2023-07-29T14:23:14.381418Z",
     "shell.execute_reply": "2023-07-29T14:23:14.379938Z"
    },
    "papermill": {
     "duration": 0.020916,
     "end_time": "2023-07-29T14:23:14.384361",
     "exception": false,
     "start_time": "2023-07-29T14:23:14.363445",
     "status": "completed"
    },
    "tags": []
   },
   "outputs": [],
   "source": [
    "def random_values(col_name:str,total=6):\n",
    "    for i in range(0,total):\n",
    "        index = np.random.randint(df.shape[0])\n",
    "        print(index,':',df[col_name].iloc[index])        "
   ]
  },
  {
   "cell_type": "code",
   "execution_count": 4,
   "id": "31d63e22",
   "metadata": {
    "execution": {
     "iopub.execute_input": "2023-07-29T14:23:14.406711Z",
     "iopub.status.busy": "2023-07-29T14:23:14.406008Z",
     "iopub.status.idle": "2023-07-29T14:23:14.417631Z",
     "shell.execute_reply": "2023-07-29T14:23:14.416352Z"
    },
    "papermill": {
     "duration": 0.025671,
     "end_time": "2023-07-29T14:23:14.420386",
     "exception": false,
     "start_time": "2023-07-29T14:23:14.394715",
     "status": "completed"
    },
    "tags": []
   },
   "outputs": [
    {
     "name": "stdout",
     "output_type": "stream",
     "text": [
      "1067 : Storage64 GBRAM4 GBExpandable Storage1TB  SystemAndroid 12Processor TypeMediatek Helio G37Processor Speed2.3 50MP 2MP 50MP 2MP 8MP 8MP 4G Capacity5000 Display Size16.51 cm (6.5 inch)Resolution1600 x 720 PixelsResolution TypeHD+GPUIMG PowerVR GE8320Display TypeHD+ IPS LCD DisplayOther Display FeaturesRefresh Rate: 90 Hz, Aspect Ratio: 20:9, Screen-to-Body Ratio: 89.03%\n",
      "769 : Storage128 GBRAM6  SystemAndroid 11Processor Speed2 64MP 4G Capacity6000 Display Size16.26 cm (6.4 inch)Resolution2400 x 1080 Pixels\n",
      "2199 : Storage128 GBRAM6 GBExpandable Storage1TB  SystemAndroid 11Processor TypeMediatek Helio G85Processor Speed2 50MP 8MP 2MP 13MP 4G Capacity5000 Display Size16.26 cm (6.4 inch)Resolution2400 x 1080 PixelsResolution TypeFull HD+GPUARM Mali-G52 MC2Display TypeFHD+ AMOLED DisplayOther Display Features60 Hz Refresh Rate, 20:9 Display Aspect Ratio, 88.80% Screen-to-Body Ratio, Upto 700nits Brightness\n",
      "929 : Storage256  SystemiOS 16Processor TypeA16 Bionic Chip 48MP 12MP 12MP 48MP 12MP 12MP 63MP 12MP 12MP 5G notMentioned Display Size17.02 cm (6.7 inch)Resolution2796 x 1290 PixelsResolution TypeSuper Retina XDR DisplayGPU5 CoreDisplay TypeSuper Retina XDR DisplayOther Display FeaturesDynamic Island, Always-On Display, Pro Motion Technology with Adaptive Refresh Rates Upto 120 Hz, HDR Display, True Tone, Wide Colour (P3), Haptic Touch, Contrast Ratio: 20,00,000:1, Max Brightness: 1,000 nits, Peak Brightness: 1,600 nits, Peak Brightness (Outdoor): 2,000 nits\n",
      "1868 : Storage32 GBRAM3 GBExpandable Storage1TB  SystemAndroid 11Processor TypeUnisoc T612Processor Speed1.82 8MP 8MP 5MP 5MP 4G Capacity5000 Display Size16.51 cm (6.5 inch)Resolution1600 x 720 PixelResolution TypeHD+GPUARM Mali G57Display TypeHD+ LCD DisplayDisplay Colors16.7MOther Display FeaturesRefresh Rate: 60 Hz, Aspect Ratio: 20:9, Screen-to-Body Ratio: 88.70%, Screen Contrast: 1500:1, Brightness: 400 nits, Color Saturation: 70% NTSC\n",
      "156 : Storage128 GBRAM4 GBExpandable Storage256GB  SystemAndroid 11Processor TypeMediaTek Helio G35Processor Speed2.3 50MP 2MP 2MP 50MP 2MP 2MP 16MP 4G Capacity5000 Display Size16.54 cm (6.51 inch)Resolution1600 x 720 PixelsResolution TypeHD+GPUIMG GE8320Display TypeHD+ LCD IPSDisplay Colors16.7MOther Display Features60 Hz Refresh Rate, 89.20% Screen-to-Body Ratio, Color Saturation: 70% (Typical), 20:9 Aspect Ratio, Contrast Ratio: 1500:1, Color Gamut: 70% NTSC, Brightness: 550 nits (Typical), Touch Sampling Rate: 120 Hz, Night Mode, Eye Comfort, NEG T2X-1 Protection Material,\n"
     ]
    }
   ],
   "source": [
    "random_values('corpus')"
   ]
  },
  {
   "cell_type": "markdown",
   "id": "8215dc61",
   "metadata": {
    "papermill": {
     "duration": 0.010501,
     "end_time": "2023-07-29T14:23:14.441634",
     "exception": false,
     "start_time": "2023-07-29T14:23:14.431133",
     "status": "completed"
    },
    "tags": []
   },
   "source": [
    "## Lowercasing the corpus values"
   ]
  },
  {
   "cell_type": "code",
   "execution_count": 5,
   "id": "1b26870e",
   "metadata": {
    "execution": {
     "iopub.execute_input": "2023-07-29T14:23:14.466163Z",
     "iopub.status.busy": "2023-07-29T14:23:14.465367Z",
     "iopub.status.idle": "2023-07-29T14:23:14.475608Z",
     "shell.execute_reply": "2023-07-29T14:23:14.474582Z"
    },
    "papermill": {
     "duration": 0.024985,
     "end_time": "2023-07-29T14:23:14.478305",
     "exception": false,
     "start_time": "2023-07-29T14:23:14.453320",
     "status": "completed"
    },
    "tags": []
   },
   "outputs": [],
   "source": [
    "df['corpus'] = df['corpus'].str.lower()"
   ]
  },
  {
   "cell_type": "code",
   "execution_count": 6,
   "id": "cbf9be74",
   "metadata": {
    "execution": {
     "iopub.execute_input": "2023-07-29T14:23:14.500592Z",
     "iopub.status.busy": "2023-07-29T14:23:14.499606Z",
     "iopub.status.idle": "2023-07-29T14:23:14.507263Z",
     "shell.execute_reply": "2023-07-29T14:23:14.505836Z"
    },
    "papermill": {
     "duration": 0.021928,
     "end_time": "2023-07-29T14:23:14.510260",
     "exception": false,
     "start_time": "2023-07-29T14:23:14.488332",
     "status": "completed"
    },
    "tags": []
   },
   "outputs": [
    {
     "name": "stdout",
     "output_type": "stream",
     "text": [
      "738 : storage64 gbram4 gbexpandable storage256gb  systemandroid oreo 8.1processor typequalcomm snapdragon 626processor speed2.2 16mp 5mp 24mp 3g capacity3260 display size16.0 cm (6.3 inch)resolution2280 x 1080 pixelsresolution typefull hd+gpuadreno 506display typeips capacitive touch screenother display featuresfullview display 2.0, 1.75 mm ultra-slim bezel, 90% screen-to-body ratio, face scan to unlock, face scan for app-lock, smart motion, corning gorilla 2.5d glass , eye protection mode, smart split 3.0, 19:9 display\n",
      "215 : storage128 gbram6  systemandroid q 12processor speed2.2 50mp 4g capacity6000 display size16.76 cm (6.6 inch)resolution720x2408 pixel\n",
      "1230 : storage128 gbram6 gbexpandable storage1tb  systemandroid 11processor typequalcomm snapdragon 662processor speed2 48mp 2mp 2mp 48mp 2mp 2mp 48mp 2mp 2mp 48mp 16mp 16mp 4g capacity5000 display size16.71 cm (6.58 inch)resolution2408 x 1080 pixelsresolution typefull hd+gpuadreno 610display typefull hd+ lcd full-incell ips displayother display features90.7% screen to body ratio\n",
      "739 : storage64 gbram6 gbexpandable storage256gb  systemandroid pie 9processor typequalcomm snapdragon 675processor speed2 48mp 5mp 48mp 5mp 13mp 3g capacity4000 display size16.0 cm (6.3 inch)resolution2340 x 1080 pixelsresolution typefull hd+gpuadreno 612display typeips (in-cell), rdother display featurescontrast ratio - 1500:1, ntsc ratio - 81.41%, 2.5d glass (in-front), corning gorilla glass 5 (front and back), dot notch display\n",
      "2366 : storage128 gbram8 gbexpandable storage1tb  systemandroid 11processor typemediatek dimensity 920processor speed2.5 108mp 108mp 8mp 2mp 16mp 5g capacity5160 display size16.94 cm (6.67 inch)resolution2400 x 1080 pixelsresolution typefull hd+ amoled displaygpuarm mali-g68 mc4display typefull hd+ amoled dot displayhd game supportyesdisplay colors16m\n",
      "1387 : storage128 gbram8 gbexpandable storage1tb  systemandroid 13processor typeunisoc tiger t606processor speed1.6 16mp 8mp 4g capacity5000 display size16.76 cm (6.6 inch)resolution1612 x 720resolution typehd+gpuarm mali g57 mp1display typeips lcdother display features90hz refresh rate\n"
     ]
    }
   ],
   "source": [
    "random_values('corpus')"
   ]
  },
  {
   "cell_type": "code",
   "execution_count": 7,
   "id": "4ed17092",
   "metadata": {
    "execution": {
     "iopub.execute_input": "2023-07-29T14:23:14.532358Z",
     "iopub.status.busy": "2023-07-29T14:23:14.531901Z",
     "iopub.status.idle": "2023-07-29T14:23:14.547697Z",
     "shell.execute_reply": "2023-07-29T14:23:14.546435Z"
    },
    "papermill": {
     "duration": 0.030024,
     "end_time": "2023-07-29T14:23:14.550356",
     "exception": false,
     "start_time": "2023-07-29T14:23:14.520332",
     "status": "completed"
    },
    "tags": []
   },
   "outputs": [
    {
     "data": {
      "text/plain": [
       "name        0\n",
       "ratings     0\n",
       "price       0\n",
       "imgURL      0\n",
       "corpus     12\n",
       "dtype: int64"
      ]
     },
     "execution_count": 7,
     "metadata": {},
     "output_type": "execute_result"
    }
   ],
   "source": [
    "df.isnull().sum()"
   ]
  },
  {
   "cell_type": "code",
   "execution_count": 8,
   "id": "6f91300c",
   "metadata": {
    "execution": {
     "iopub.execute_input": "2023-07-29T14:23:14.574019Z",
     "iopub.status.busy": "2023-07-29T14:23:14.573284Z",
     "iopub.status.idle": "2023-07-29T14:23:14.587092Z",
     "shell.execute_reply": "2023-07-29T14:23:14.585741Z"
    },
    "papermill": {
     "duration": 0.029375,
     "end_time": "2023-07-29T14:23:14.590002",
     "exception": false,
     "start_time": "2023-07-29T14:23:14.560627",
     "status": "completed"
    },
    "tags": []
   },
   "outputs": [],
   "source": [
    "df.dropna(inplace=True)"
   ]
  },
  {
   "cell_type": "code",
   "execution_count": 9,
   "id": "cbf2b53c",
   "metadata": {
    "execution": {
     "iopub.execute_input": "2023-07-29T14:23:14.612008Z",
     "iopub.status.busy": "2023-07-29T14:23:14.611559Z",
     "iopub.status.idle": "2023-07-29T14:23:14.653779Z",
     "shell.execute_reply": "2023-07-29T14:23:14.652212Z"
    },
    "papermill": {
     "duration": 0.056553,
     "end_time": "2023-07-29T14:23:14.656721",
     "exception": false,
     "start_time": "2023-07-29T14:23:14.600168",
     "status": "completed"
    },
    "tags": []
   },
   "outputs": [
    {
     "name": "stdout",
     "output_type": "stream",
     "text": [
      "words max len in corpus is: 1196\n"
     ]
    }
   ],
   "source": [
    "max_len = 0\n",
    "for i in range(0, len(df['corpus'])):\n",
    "    try:\n",
    "        if len(df['corpus'][i]) > max_len:\n",
    "            max_len = len(df['corpus'][i])\n",
    "    except:\n",
    "        pass\n",
    "\n",
    "print(f'words max len in corpus is: {max_len}')\n"
   ]
  },
  {
   "cell_type": "code",
   "execution_count": 10,
   "id": "14293c2c",
   "metadata": {
    "execution": {
     "iopub.execute_input": "2023-07-29T14:23:14.680150Z",
     "iopub.status.busy": "2023-07-29T14:23:14.678783Z",
     "iopub.status.idle": "2023-07-29T14:23:14.703245Z",
     "shell.execute_reply": "2023-07-29T14:23:14.702294Z"
    },
    "papermill": {
     "duration": 0.038388,
     "end_time": "2023-07-29T14:23:14.705569",
     "exception": false,
     "start_time": "2023-07-29T14:23:14.667181",
     "status": "completed"
    },
    "tags": []
   },
   "outputs": [
    {
     "data": {
      "text/html": [
       "<div>\n",
       "<style scoped>\n",
       "    .dataframe tbody tr th:only-of-type {\n",
       "        vertical-align: middle;\n",
       "    }\n",
       "\n",
       "    .dataframe tbody tr th {\n",
       "        vertical-align: top;\n",
       "    }\n",
       "\n",
       "    .dataframe thead th {\n",
       "        text-align: right;\n",
       "    }\n",
       "</style>\n",
       "<table border=\"1\" class=\"dataframe\">\n",
       "  <thead>\n",
       "    <tr style=\"text-align: right;\">\n",
       "      <th></th>\n",
       "      <th>name</th>\n",
       "      <th>ratings</th>\n",
       "      <th>price</th>\n",
       "      <th>imgURL</th>\n",
       "      <th>corpus</th>\n",
       "    </tr>\n",
       "  </thead>\n",
       "  <tbody>\n",
       "    <tr>\n",
       "      <th>500</th>\n",
       "      <td>Infinix Smart 7 HD (Green Apple, 64 GB)</td>\n",
       "      <td>4.3</td>\n",
       "      <td>6199</td>\n",
       "      <td>https://rukminim2.flixcart.com/image/312/312/x...</td>\n",
       "      <td>storage64 systemandroid 12processor typespread...</td>\n",
       "    </tr>\n",
       "    <tr>\n",
       "      <th>2035</th>\n",
       "      <td>APPLE iPhone 6 (Silver, 16 GB)</td>\n",
       "      <td>4.4</td>\n",
       "      <td>28546</td>\n",
       "      <td>https://rukminim2.flixcart.com/image/312/312/m...</td>\n",
       "      <td>storage16 systemios 8processor typeapple a8 64...</td>\n",
       "    </tr>\n",
       "    <tr>\n",
       "      <th>589</th>\n",
       "      <td>realme 10 (Rush Black, 128 GB)</td>\n",
       "      <td>4.3</td>\n",
       "      <td>16999</td>\n",
       "      <td>https://rukminim2.flixcart.com/image/312/312/x...</td>\n",
       "      <td>storage128 gbram8 gbexpandable storage1tb  sys...</td>\n",
       "    </tr>\n",
       "    <tr>\n",
       "      <th>977</th>\n",
       "      <td>APPLE iPhone 6 (Grey, 128 GB)</td>\n",
       "      <td>4.6</td>\n",
       "      <td>5964</td>\n",
       "      <td>https://rukminim2.flixcart.com/image/312/312/m...</td>\n",
       "      <td>storage128 systemios 8processor typeapple a8 6...</td>\n",
       "    </tr>\n",
       "    <tr>\n",
       "      <th>444</th>\n",
       "      <td>Tecno Pova Neo (Obsidian Black, 128 GB)</td>\n",
       "      <td>4.1</td>\n",
       "      <td>10999</td>\n",
       "      <td>https://rukminim2.flixcart.com/image/312/312/k...</td>\n",
       "      <td>storage128 gbram6 gbexpandable storage256gb  s...</td>\n",
       "    </tr>\n",
       "    <tr>\n",
       "      <th>1332</th>\n",
       "      <td>realme 2 Pro (Ice Lake, 64 GB)</td>\n",
       "      <td>4.5</td>\n",
       "      <td>13990</td>\n",
       "      <td>https://rukminim2.flixcart.com/image/312/312/j...</td>\n",
       "      <td>storage64 gbram4 gbexpandable storage256gb  sy...</td>\n",
       "    </tr>\n",
       "    <tr>\n",
       "      <th>848</th>\n",
       "      <td>APPLE iPhone 7 (Red, 128 GB)</td>\n",
       "      <td>4.1</td>\n",
       "      <td>30636</td>\n",
       "      <td>https://rukminim2.flixcart.com/image/312/312/j...</td>\n",
       "      <td>storage128 systemios 12processor typeapple a10...</td>\n",
       "    </tr>\n",
       "    <tr>\n",
       "      <th>1840</th>\n",
       "      <td>OPPO A55 (Rainbow Blue, 64 GB)</td>\n",
       "      <td>4.3</td>\n",
       "      <td>₹18,990</td>\n",
       "      <td>https://rukminim2.flixcart.com/image/312/312/k...</td>\n",
       "      <td>storage64 gbram4 gbexpandable storage256gb  sy...</td>\n",
       "    </tr>\n",
       "    <tr>\n",
       "      <th>56</th>\n",
       "      <td>REDMI 11 Prime 5G (Meadow Green, 128 GB)</td>\n",
       "      <td>4.2</td>\n",
       "      <td>15790</td>\n",
       "      <td>https://rukminim2.flixcart.com/image/312/312/x...</td>\n",
       "      <td>storage128 gbram6  systemandroid 12primary clo...</td>\n",
       "    </tr>\n",
       "    <tr>\n",
       "      <th>148</th>\n",
       "      <td>Xiaomi 12 Pro 5G (Couture Blue, 256 GB)</td>\n",
       "      <td>4.1</td>\n",
       "      <td>23537</td>\n",
       "      <td>https://rukminim2.flixcart.com/image/312/312/x...</td>\n",
       "      <td>storage256 gbram8  systemandroid 12processor t...</td>\n",
       "    </tr>\n",
       "  </tbody>\n",
       "</table>\n",
       "</div>"
      ],
      "text/plain": [
       "                                          name  ratings    price  \\\n",
       "500    Infinix Smart 7 HD (Green Apple, 64 GB)      4.3     6199   \n",
       "2035            APPLE iPhone 6 (Silver, 16 GB)      4.4    28546   \n",
       "589             realme 10 (Rush Black, 128 GB)      4.3    16999   \n",
       "977              APPLE iPhone 6 (Grey, 128 GB)      4.6     5964   \n",
       "444    Tecno Pova Neo (Obsidian Black, 128 GB)      4.1    10999   \n",
       "1332            realme 2 Pro (Ice Lake, 64 GB)      4.5    13990   \n",
       "848               APPLE iPhone 7 (Red, 128 GB)      4.1    30636   \n",
       "1840            OPPO A55 (Rainbow Blue, 64 GB)      4.3  ₹18,990   \n",
       "56    REDMI 11 Prime 5G (Meadow Green, 128 GB)      4.2    15790   \n",
       "148    Xiaomi 12 Pro 5G (Couture Blue, 256 GB)      4.1    23537   \n",
       "\n",
       "                                                 imgURL  \\\n",
       "500   https://rukminim2.flixcart.com/image/312/312/x...   \n",
       "2035  https://rukminim2.flixcart.com/image/312/312/m...   \n",
       "589   https://rukminim2.flixcart.com/image/312/312/x...   \n",
       "977   https://rukminim2.flixcart.com/image/312/312/m...   \n",
       "444   https://rukminim2.flixcart.com/image/312/312/k...   \n",
       "1332  https://rukminim2.flixcart.com/image/312/312/j...   \n",
       "848   https://rukminim2.flixcart.com/image/312/312/j...   \n",
       "1840  https://rukminim2.flixcart.com/image/312/312/k...   \n",
       "56    https://rukminim2.flixcart.com/image/312/312/x...   \n",
       "148   https://rukminim2.flixcart.com/image/312/312/x...   \n",
       "\n",
       "                                                 corpus  \n",
       "500   storage64 systemandroid 12processor typespread...  \n",
       "2035  storage16 systemios 8processor typeapple a8 64...  \n",
       "589   storage128 gbram8 gbexpandable storage1tb  sys...  \n",
       "977   storage128 systemios 8processor typeapple a8 6...  \n",
       "444   storage128 gbram6 gbexpandable storage256gb  s...  \n",
       "1332  storage64 gbram4 gbexpandable storage256gb  sy...  \n",
       "848   storage128 systemios 12processor typeapple a10...  \n",
       "1840  storage64 gbram4 gbexpandable storage256gb  sy...  \n",
       "56    storage128 gbram6  systemandroid 12primary clo...  \n",
       "148   storage256 gbram8  systemandroid 12processor t...  "
      ]
     },
     "execution_count": 10,
     "metadata": {},
     "output_type": "execute_result"
    }
   ],
   "source": [
    "df.sample(10)"
   ]
  },
  {
   "cell_type": "code",
   "execution_count": 11,
   "id": "219253fe",
   "metadata": {
    "execution": {
     "iopub.execute_input": "2023-07-29T14:23:14.729092Z",
     "iopub.status.busy": "2023-07-29T14:23:14.728611Z",
     "iopub.status.idle": "2023-07-29T14:23:14.735887Z",
     "shell.execute_reply": "2023-07-29T14:23:14.734515Z"
    },
    "papermill": {
     "duration": 0.021899,
     "end_time": "2023-07-29T14:23:14.738521",
     "exception": false,
     "start_time": "2023-07-29T14:23:14.716622",
     "status": "completed"
    },
    "tags": []
   },
   "outputs": [
    {
     "name": "stdout",
     "output_type": "stream",
     "text": [
      "823 : https://rukminim2.flixcart.com/image/312/312/xif0q/mobile/9/l/3/-original-imaghgcktmwxthzc.jpeg?q=70\n",
      "2049 : https://rukminim2.flixcart.com/image/312/312/xif0q/mobile/2/s/7/-original-imagmg6gktts6sfy.jpeg?q=70\n",
      "1790 : https://rukminim2.flixcart.com/image/312/312/ktketu80/mobile/a/i/l/iphone-13-mini-mlk93hn-a-apple-original-imag6vp6x67yypzk.jpeg?q=70\n",
      "2475 : https://rukminim2.flixcart.com/image/312/312/l3rmzrk0/mobile/2/l/k/-original-imagetmebhg9thpv.jpeg?q=70\n",
      "420 : https://rukminim2.flixcart.com/image/312/312/k2jbyq80pkrrdj/mobile-refurbished/x/j/s/iphone-11-128-d-mwm02hn-a-apple-0-original-imafkg242ugz8hwc.jpeg?q=70\n",
      "817 : https://rukminim2.flixcart.com/image/312/312/ktketu80/mobile/r/8/l/iphone-13-mini-mlk53hn-a-apple-original-imag6vp693zncyk7.jpeg?q=70\n"
     ]
    }
   ],
   "source": [
    "random_values('imgURL')"
   ]
  },
  {
   "cell_type": "markdown",
   "id": "8464d977",
   "metadata": {
    "papermill": {
     "duration": 0.010352,
     "end_time": "2023-07-29T14:23:14.759596",
     "exception": false,
     "start_time": "2023-07-29T14:23:14.749244",
     "status": "completed"
    },
    "tags": []
   },
   "source": [
    "# Model"
   ]
  },
  {
   "cell_type": "markdown",
   "id": "7e72097a",
   "metadata": {
    "papermill": {
     "duration": 0.010942,
     "end_time": "2023-07-29T14:23:14.781410",
     "exception": false,
     "start_time": "2023-07-29T14:23:14.770468",
     "status": "completed"
    },
    "tags": []
   },
   "source": [
    "## vectorization(to convert the words to vectors)"
   ]
  },
  {
   "cell_type": "code",
   "execution_count": 12,
   "id": "ebd16659",
   "metadata": {
    "execution": {
     "iopub.execute_input": "2023-07-29T14:23:14.804920Z",
     "iopub.status.busy": "2023-07-29T14:23:14.804097Z",
     "iopub.status.idle": "2023-07-29T14:23:16.028485Z",
     "shell.execute_reply": "2023-07-29T14:23:16.027233Z"
    },
    "papermill": {
     "duration": 1.239305,
     "end_time": "2023-07-29T14:23:16.031444",
     "exception": false,
     "start_time": "2023-07-29T14:23:14.792139",
     "status": "completed"
    },
    "tags": []
   },
   "outputs": [],
   "source": [
    "\n",
    "from sklearn.feature_extraction.text import CountVectorizer "
   ]
  },
  {
   "cell_type": "code",
   "execution_count": 13,
   "id": "dd9126df",
   "metadata": {
    "execution": {
     "iopub.execute_input": "2023-07-29T14:23:16.054659Z",
     "iopub.status.busy": "2023-07-29T14:23:16.054232Z",
     "iopub.status.idle": "2023-07-29T14:23:16.059681Z",
     "shell.execute_reply": "2023-07-29T14:23:16.058474Z"
    },
    "papermill": {
     "duration": 0.020018,
     "end_time": "2023-07-29T14:23:16.062215",
     "exception": false,
     "start_time": "2023-07-29T14:23:16.042197",
     "status": "completed"
    },
    "tags": []
   },
   "outputs": [],
   "source": [
    "cont_vect = CountVectorizer(max_features=1000)"
   ]
  },
  {
   "cell_type": "code",
   "execution_count": 14,
   "id": "111c3555",
   "metadata": {
    "execution": {
     "iopub.execute_input": "2023-07-29T14:23:16.086429Z",
     "iopub.status.busy": "2023-07-29T14:23:16.086011Z",
     "iopub.status.idle": "2023-07-29T14:23:16.276155Z",
     "shell.execute_reply": "2023-07-29T14:23:16.274881Z"
    },
    "papermill": {
     "duration": 0.205588,
     "end_time": "2023-07-29T14:23:16.279052",
     "exception": false,
     "start_time": "2023-07-29T14:23:16.073464",
     "status": "completed"
    },
    "tags": []
   },
   "outputs": [],
   "source": [
    "arrays = cont_vect.fit_transform(df['corpus'])"
   ]
  },
  {
   "cell_type": "code",
   "execution_count": 15,
   "id": "a6768b09",
   "metadata": {
    "execution": {
     "iopub.execute_input": "2023-07-29T14:23:16.302863Z",
     "iopub.status.busy": "2023-07-29T14:23:16.302443Z",
     "iopub.status.idle": "2023-07-29T14:23:16.324891Z",
     "shell.execute_reply": "2023-07-29T14:23:16.323612Z"
    },
    "papermill": {
     "duration": 0.037991,
     "end_time": "2023-07-29T14:23:16.327758",
     "exception": false,
     "start_time": "2023-07-29T14:23:16.289767",
     "status": "completed"
    },
    "tags": []
   },
   "outputs": [],
   "source": [
    "vectors = arrays.toarray()"
   ]
  },
  {
   "cell_type": "code",
   "execution_count": 16,
   "id": "a64da25b",
   "metadata": {
    "execution": {
     "iopub.execute_input": "2023-07-29T14:23:16.351488Z",
     "iopub.status.busy": "2023-07-29T14:23:16.350642Z",
     "iopub.status.idle": "2023-07-29T14:23:16.363543Z",
     "shell.execute_reply": "2023-07-29T14:23:16.362664Z"
    },
    "papermill": {
     "duration": 0.028213,
     "end_time": "2023-07-29T14:23:16.366679",
     "exception": false,
     "start_time": "2023-07-29T14:23:16.338466",
     "status": "completed"
    },
    "tags": []
   },
   "outputs": [
    {
     "data": {
      "text/plain": [
       "array(['00', '000', '02', '03', '04', '05', '07', '07bother', '08', '09',\n",
       "       '0mp', '0primary', '0processor', '10', '100', '1000', '100000',\n",
       "       '1000000', '100mp', '103', '104', '106', '1080', '1080processor',\n",
       "       '1080resolution', '108mp', '10mp', '10processor', '11', '1100',\n",
       "       '1125', '1170', '1179', '11primary', '11processor', '12', '120',\n",
       "       '1200', '1200processor', '120hz', '1242', '1280processor', '1284',\n",
       "       '1290', '12mp', '12primary', '12processor', '13', '1300',\n",
       "       '1300processor', '1330', '1334', '135', '13mp', '13processor',\n",
       "       '14', '1400', '144', '1440', '144hz', '1480', '14processor', '15',\n",
       "       '1500', '1544', '15processor', '16', '160', '1600', '16000',\n",
       "       '1600resolution', '1612', '16mp', '16processor', '18', '180',\n",
       "       '1800', '180hz', '19', '1920', '1920hz', '1processor', '20', '200',\n",
       "       '2000000', '200mp', '20mp', '21', '22', '23', '2340', '24', '240',\n",
       "       '2400', '2400resolution', '2408', '240hz', '2460', '24mp', '25mm',\n",
       "       '25mp', '26', '27', '28', '2d', '2g', '2ghzprocessor', '2mm',\n",
       "       '2mp', '2processor', '2x', '2xhd', '30', '308display', '30hz',\n",
       "       '32', '326', '32mp', '33', '35', '36', '360', '37', '38', '39',\n",
       "       '3d', '3g', '3ghzprocessor', '3mp', '40', '400', '400nits', '401',\n",
       "       '4096', '41', '420', '420nits', '425processor', '43', '430',\n",
       "       '439processor', '44', '440', '44mm', '44mp', '45', '450',\n",
       "       '4500000', '450processor', '460processor', '46mm', '47', '48',\n",
       "       '480', '480hz', '480nits', '488', '48hz', '48mp', '49', '4g',\n",
       "       '4ghzprocessor', '4mp', '50', '500', '5000000', '500nit',\n",
       "       '500nits', '505', '505display', '505other', '506display',\n",
       "       '509display', '50hz', '50mp', '51', '512display', '515', '52',\n",
       "       '53', '54', '55', '550', '56', '57', '58', '580', '59', '5d', '5g',\n",
       "       '5gprocessor', '5mp', '60', '600', '60000', '6020processor',\n",
       "       '60hz', '60mp', '61', '610', '610display', '612display',\n",
       "       '616display', '618display', '619display', '62', '620display',\n",
       "       '625', '625processor', '636processor', '63mp', '64', '640',\n",
       "       '640display', '642ldisplay', '64mp', '65', '650', '650display',\n",
       "       '66', '660', '660display', '662processor', '665', '665processor',\n",
       "       '67', '675processor', '680', '680processor', '69', '695',\n",
       "       '695processor', '6mm', '6processor', '70', '700', '700processor',\n",
       "       '7050processor', '70mm', '71', '712', '72', '720', '720gprocessor',\n",
       "       '720resolution', '73', '730display', '730processor',\n",
       "       '732gprocessor', '74', '740display', '75', '750', '750gprocessor',\n",
       "       '76', '765gprocessor', '77', '778g', '778gprocessor', '78', '7m',\n",
       "       '7mother', '7mp', '7processor', '7t', '80', '800', '800uprocessor',\n",
       "       '81', '810', '8100processor', '810processor', '82', '828', '83',\n",
       "       '84', '85', '850', '850processor', '855', '855processor', '86',\n",
       "       '865processor', '87', '870processor', '87mm', '88', '888',\n",
       "       '888processor', '89', '8mp', '8processor', '90', '900',\n",
       "       '900processor', '90hz', '90nit', '91', '92', '920processor', '93',\n",
       "       '94', '95', '950', '96', '9611', '9611processor', '97', '98',\n",
       "       '98mm', '99', '9processor', 'a10', 'a11', 'a22processor',\n",
       "       'a618display', 'a9', 'aa', 'access', 'active', 'adaptive',\n",
       "       'adjustment', 'adreno', 'agc', 'aieprocessor', 'all', 'always',\n",
       "       'amazon', 'ambient', 'amoled', 'amoleddisplay', 'amoledhd',\n",
       "       'amoledother', 'an', 'and', 'android', 'angle', 'angles', 'anti',\n",
       "       'anywhere', 'area', 'arrangement', 'aspect', 'at', 'auto', 'back',\n",
       "       'backlit', 'based', 'bazel', 'bezel', 'billionother', 'bionic',\n",
       "       'bit', 'blue', 'body', 'border', 'bottom', 'brightness', 'by',\n",
       "       'c3', 'camera', 'capacitive', 'capacity1000', 'capacity1440',\n",
       "       'capacity1715', 'capacity2750', 'capacity2915', 'capacity3000',\n",
       "       'capacity3080', 'capacity3180', 'capacity3200', 'capacity3300',\n",
       "       'capacity3400', 'capacity3500', 'capacity3700', 'capacity3900',\n",
       "       'capacity4000', 'capacity4015', 'capacity4020', 'capacity4030',\n",
       "       'capacity4050', 'capacity4100', 'capacity4115', 'capacity4200',\n",
       "       'capacity4230', 'capacity4250', 'capacity4300', 'capacity4400',\n",
       "       'capacity4500', 'capacity4520', 'capacity4600', 'capacity4700',\n",
       "       'capacity4800', 'capacity5000', 'capacity5020', 'capacity5160',\n",
       "       'capacity6000', 'capacity7000', 'capacity800', 'care', 'cd',\n",
       "       'cell', 'celldisplay', 'cellother', 'certification', 'certified',\n",
       "       'channel', 'characters', 'chip', 'clear', 'clock', 'cm', 'coating',\n",
       "       'cof', 'cog', 'color', 'coloros', 'colorother', 'colors',\n",
       "       'colors1', 'colors10', 'colors16', 'colors16m', 'colors16mother',\n",
       "       'colors65', 'colorscontrast', 'colour', 'comfort', 'contrast',\n",
       "       'control', 'core', 'coredisplay', 'coreocta', 'coreprocessor',\n",
       "       'corning', 'cover', 'coverage', 'curved', 'cut', 'dc', 'dci',\n",
       "       'degree', 'design', 'designed', 'dewdrop', 'diagonal', 'dimensity',\n",
       "       'dimming', 'dinorex', 'display', 'displaydisplay', 'displaygpu4',\n",
       "       'displaygpu5', 'displaygpuadreno', 'displaygpuarm',\n",
       "       'displaygpupowervr', 'displaygpuqualcomm', 'displayhd',\n",
       "       'displaymate', 'displayother', 'dolby', 'domain', 'dot', 'down',\n",
       "       'dual', 'dynamic', 'e3', 'edge', 'edition', 'enhancer',\n",
       "       'experience', 'exynos', 'eye', 'f01', 'face', 'faster',\n",
       "       'features120', 'features1200nits', 'features120hz', 'features1300',\n",
       "       'features1400', 'features16', 'features180', 'features180hz',\n",
       "       'features19', 'features2', 'features20', 'features6', 'features60',\n",
       "       'features89', 'features90', 'features90hz', 'featuresadaptive',\n",
       "       'featuresaspect', 'featuresbezel', 'featurescontrast',\n",
       "       'featurescorning', 'featuresdisplay', 'featuresdolby',\n",
       "       'featuresdynamic', 'featuresfullview', 'featureshalo',\n",
       "       'featureshdr', 'featuresin', 'featuresips', 'featuresled',\n",
       "       'featuresmulti', 'featuresnarrow', 'featureson', 'featuresrefresh',\n",
       "       'featuresretina', 'featuresscreen', 'featuressuper',\n",
       "       'featurestouch', 'featuresvideo', 'featureswidescreen', 'fhd',\n",
       "       'film', 'finger', 'fingerprint', 'fluiddisplay', 'for', 'fps',\n",
       "       'frame', 'frequencygsm', 'from', 'front', 'full', 'fullview',\n",
       "       'fusion', 'g25processor', 'g35processor', 'g37processor', 'g52',\n",
       "       'g52display', 'g57', 'g57display', 'g610', 'g68', 'g68display',\n",
       "       'g70processor', 'g71', 'g72', 'g76', 'g76display', 'g77',\n",
       "       'g77display', 'g80processor', 'g85processor', 'g88processor',\n",
       "       'g90tprocessor', 'g95processor', 'g96processor', 'g99processor',\n",
       "       'game', 'gameplay', 'gamut', 'gbexpandable', 'gbram1', 'gbram12',\n",
       "       'gbram128', 'gbram16', 'gbram2', 'gbram3', 'gbram4', 'gbram6',\n",
       "       'gbram8', 'gbtotal', 'ge8320', 'ge8320display', 'ge8322display',\n",
       "       'gen', 'generation', 'gentle', 'gestures', 'gff', 'gg3', 'gg5',\n",
       "       'ghz', 'ghzprocessor', 'glass', 'go', 'goprocessor', 'gorilla',\n",
       "       'gpu', 'gpuadreno', 'gpuarm', 'gpuge8320display', 'gpuimagination',\n",
       "       'gpuimg', 'gpumali', 'gpupowervr', 'gpuqualcomm', 'graphics',\n",
       "       'gt7600', 'halo', 'haptic', 'hbm', 'hd', 'hdgpuadreno', 'hdgpuarm',\n",
       "       'hdr', 'hdr10', 'helio', 'high', 'hios', 'hole', 'hz', 'in',\n",
       "       'incell', 'inch', 'increase', 'infinity', 'intensive', 'ion',\n",
       "       'ips', 'ipsdisplay', 'ipsother', 'is', 'island', 'kitkat',\n",
       "       'languages', 'layer', 'lcd', 'lcddisplay', 'lcdhd', 'lcdother',\n",
       "       'led', 'left', 'level', 'light', 'liquid', 'local', 'lollipop',\n",
       "       'low', 'lower', 'ltps', 'm2', 'mali', 'marshmallow', 'material',\n",
       "       'max', 'maximum', 'mbram4', 'mc2', 'mc2display', 'mc3display',\n",
       "       'mc4display', 'mc6display', 'mc9display', 'mediatek', 'memc',\n",
       "       'memory128gb', 'memory64gb', 'metal', 'mhz', 'mhzdisplay',\n",
       "       'mhzother', 'millionother', 'min', 'minimum', 'miui', 'mm',\n",
       "       'mn228', 'mobile', 'mode', 'more', 'mother', 'motion',\n",
       "       'mp1display', 'mp2display', 'mp3', 'mp3display', 'mp4display',\n",
       "       'mp5display', 'mt6762processor', 'mt6765', 'mt6771v', 'multi',\n",
       "       'multiple', 'nano', 'narrow', 'neg', 'new', 'night', 'nit', 'nits',\n",
       "       'nm', 'no', 'normal', 'notch', 'notmentioned', 'nougat', 'ntsc',\n",
       "       'octa', 'octacoreprocessor', 'of', 'off', 'oled', 'oleophobic',\n",
       "       'oleophpbic', 'on', 'oncell', 'oneplus', 'optimised', 'oreo', 'os',\n",
       "       'other', 'outdoor', 'outside', 'over', 'oxygen', 'oxygenos',\n",
       "       'oxygenosprocessor', 'p22', 'p22processor', 'p2i', 'p3', 'p35',\n",
       "       'p35processor', 'p60', 'p70', 'p70processor', 'p95processor',\n",
       "       'panda', 'panel', 'peak', 'percent', 'performance', 'peripheral',\n",
       "       'phone', 'pie', 'pixel', 'pixelgpuadreno', 'pixelresolution',\n",
       "       'pixels', 'pixelsdisplay', 'pixelsgpuadreno', 'pixelsgpuapple',\n",
       "       'pixelsgpuarm', 'pixelsresolution', 'platformprocessor',\n",
       "       'playback', 'plusprocessor', 'points', 'poled', 'powervr',\n",
       "       'powervrdisplay', 'ppi', 'print', 'pro', 'process', 'processor',\n",
       "       'processorprocessor', 'promotion', 'proof', 'proportion',\n",
       "       'protected', 'protection', 'protective', 'protector', 'punch',\n",
       "       'pwm', 'pwm2160hz', 'quad', 'rate', 'rates', 'ratio', 'rdother',\n",
       "       'reachability', 'reading', 'refresh', 'repellent', 'resistant',\n",
       "       'resolution', 'resolution1080', 'resolution1080x2400',\n",
       "       'resolution1136', 'resolution128', 'resolution1280',\n",
       "       'resolution1334', 'resolution1440', 'resolution1520',\n",
       "       'resolution1560', 'resolution1600', 'resolution1600x720',\n",
       "       'resolution1612', 'resolution1612x720', 'resolution1640',\n",
       "       'resolution1650', 'resolution1650x720', 'resolution1792',\n",
       "       'resolution1920', 'resolution1920x1080', 'resolution2160',\n",
       "       'resolution2160x1080', 'resolution2280', 'resolution2340',\n",
       "       'resolution2376', 'resolution2400', 'resolution2400x1080',\n",
       "       'resolution2404', 'resolution2408', 'resolution2412',\n",
       "       'resolution2436', 'resolution2460', 'resolution2480',\n",
       "       'resolution2532', 'resolution2556', 'resolution2640',\n",
       "       'resolution2688', 'resolution2772x1240', 'resolution2778',\n",
       "       'resolution2796', 'resolution3088', 'resolution3216',\n",
       "       'resolution720', 'resolution720x1600', 'resolution750', 'retina',\n",
       "       'rheinland', 'right', 's5e8535', 'samoled', 'sampling', 'samsung',\n",
       "       'saturation', 'sc9863a1processor', 'schott', 'scratch', 'screen',\n",
       "       'sdm450', 'sealing', 'seamless', 'sensor', 'sgs', 'si', 'side',\n",
       "       'simultaneously', 'six', 'size', 'size10', 'size11', 'size12',\n",
       "       'size13', 'size14', 'size15', 'size16', 'size17', 'size19',\n",
       "       'size3', 'size5', 'slim', 'smart', 'smooth', 'snapdragon', 'space',\n",
       "       'speed1', 'speed2', 'speed208', 'speed3', 'speed90', 'splash',\n",
       "       'srgb', 'standard', 'static', 'storage1024', 'storage128',\n",
       "       'storage128gb', 'storage16', 'storage1tb', 'storage2',\n",
       "       'storage256', 'storage256gb', 'storage2tb', 'storage32',\n",
       "       'storage512', 'storage512gb', 'storage64', 'storage8',\n",
       "       'stroboscopic', 'sunlight', 'sunshine', 'super', 'supplier',\n",
       "       'support', 'supports', 'supportyes', 'supportyesdisplay',\n",
       "       'supportyesother', 'sync', 'systemandroid',\n",
       "       'systemandroidprocessor', 'systemios', 't2x', 't606processor',\n",
       "       't610processor', 't612processor', 't616processor', 't830', 'tap',\n",
       "       'technology', 'technologyhd', 'technologyother', 'temperature',\n",
       "       'texture', 'tft', 'tftother', 'than', 'that', 'the', 'to', 'tone',\n",
       "       'top', 'touch', 'tp', 'true', 'tuv', 'typ', 'type', 'type2',\n",
       "       'typea10', 'typea11', 'typea12', 'typea13', 'typea14', 'typea15',\n",
       "       'typea16', 'typea6', 'typea8', 'typea9', 'typeall', 'typeamoled',\n",
       "       'typeamoleddisplay', 'typeamoledother', 'typeapple',\n",
       "       'typecapacitive', 'typedimensity', 'typedotdisplayhd',\n",
       "       'typedynamic', 'typeexynos', 'typefhd', 'typefluid', 'typefull',\n",
       "       'typeg37processor', 'typehd', 'typehddisplay', 'typehdgpuadreno',\n",
       "       'typehdgpumali', 'typehelio', 'typein', 'typeips', 'typeipsother',\n",
       "       'typelcdhd', 'typeled', 'typeli', 'typeliquid', 'typemediatek',\n",
       "       'typemt6763tprocessor', 'typemtk', 'typeocta', 'typepls',\n",
       "       'typequad', 'typequalcomm', 'typeretina', 'typesamsung', 'typesec',\n",
       "       'typesnapdragon', 'typesuper', 'typetft', 'typetftdisplay',\n",
       "       'typeunisoc', 'typewidescreen', 'typical', 'tüv', 'ultra', 'under',\n",
       "       'unlock', 'up', 'upper', 'upto', 'usb', 'value', 'victus', 'view',\n",
       "       'viewing', 'vision', 'visuals', 'vivid', 'wake', 'water',\n",
       "       'waterdrop', 'wide', 'widescreen', 'will', 'with', 'xdr',\n",
       "       'xensation', 'you', 'zoom'], dtype=object)"
      ]
     },
     "execution_count": 16,
     "metadata": {},
     "output_type": "execute_result"
    }
   ],
   "source": [
    "cont_vect.get_feature_names_out()"
   ]
  },
  {
   "cell_type": "markdown",
   "id": "44af0600",
   "metadata": {
    "papermill": {
     "duration": 0.011531,
     "end_time": "2023-07-29T14:23:16.389632",
     "exception": false,
     "start_time": "2023-07-29T14:23:16.378101",
     "status": "completed"
    },
    "tags": []
   },
   "source": [
    "## Calculating cosine similarity for recommendation"
   ]
  },
  {
   "cell_type": "code",
   "execution_count": 17,
   "id": "c01a6316",
   "metadata": {
    "execution": {
     "iopub.execute_input": "2023-07-29T14:23:16.416316Z",
     "iopub.status.busy": "2023-07-29T14:23:16.415831Z",
     "iopub.status.idle": "2023-07-29T14:23:16.532602Z",
     "shell.execute_reply": "2023-07-29T14:23:16.531224Z"
    },
    "papermill": {
     "duration": 0.133065,
     "end_time": "2023-07-29T14:23:16.535510",
     "exception": false,
     "start_time": "2023-07-29T14:23:16.402445",
     "status": "completed"
    },
    "tags": []
   },
   "outputs": [],
   "source": [
    "from sklearn.metrics.pairwise import cosine_similarity"
   ]
  },
  {
   "cell_type": "code",
   "execution_count": 18,
   "id": "cd994a46",
   "metadata": {
    "execution": {
     "iopub.execute_input": "2023-07-29T14:23:16.559996Z",
     "iopub.status.busy": "2023-07-29T14:23:16.559513Z",
     "iopub.status.idle": "2023-07-29T14:23:16.774743Z",
     "shell.execute_reply": "2023-07-29T14:23:16.773075Z"
    },
    "papermill": {
     "duration": 0.232999,
     "end_time": "2023-07-29T14:23:16.779821",
     "exception": false,
     "start_time": "2023-07-29T14:23:16.546822",
     "status": "completed"
    },
    "tags": []
   },
   "outputs": [
    {
     "data": {
      "text/plain": [
       "(2534, 2534)"
      ]
     },
     "execution_count": 18,
     "metadata": {},
     "output_type": "execute_result"
    }
   ],
   "source": [
    "similarity = cosine_similarity(vectors)\n",
    "similarity.shape # this is because I have calculated the similarity among all the rows to all the rows(confusing?? but try to understand)"
   ]
  },
  {
   "cell_type": "code",
   "execution_count": 19,
   "id": "227611f9",
   "metadata": {
    "execution": {
     "iopub.execute_input": "2023-07-29T14:23:16.833433Z",
     "iopub.status.busy": "2023-07-29T14:23:16.832381Z",
     "iopub.status.idle": "2023-07-29T14:23:16.848472Z",
     "shell.execute_reply": "2023-07-29T14:23:16.846829Z"
    },
    "papermill": {
     "duration": 0.046028,
     "end_time": "2023-07-29T14:23:16.851181",
     "exception": false,
     "start_time": "2023-07-29T14:23:16.805153",
     "status": "completed"
    },
    "tags": []
   },
   "outputs": [
    {
     "data": {
      "text/plain": [
       "array([0.3345748 , 0.17485208, 0.53136893, ..., 0.57564968, 0.27586342,\n",
       "       0.37283655])"
      ]
     },
     "execution_count": 19,
     "metadata": {},
     "output_type": "execute_result"
    }
   ],
   "source": [
    "similarity[3]"
   ]
  },
  {
   "cell_type": "code",
   "execution_count": 20,
   "id": "eab6fee3",
   "metadata": {
    "execution": {
     "iopub.execute_input": "2023-07-29T14:23:16.878020Z",
     "iopub.status.busy": "2023-07-29T14:23:16.876936Z",
     "iopub.status.idle": "2023-07-29T14:23:16.889821Z",
     "shell.execute_reply": "2023-07-29T14:23:16.888504Z"
    },
    "papermill": {
     "duration": 0.029012,
     "end_time": "2023-07-29T14:23:16.892331",
     "exception": false,
     "start_time": "2023-07-29T14:23:16.863319",
     "status": "completed"
    },
    "tags": []
   },
   "outputs": [
    {
     "data": {
      "text/plain": [
       "[(68, 0.9999999999999997),\n",
       " (303, 0.9999999999999997),\n",
       " (616, 0.9850746268656713),\n",
       " (1461, 0.9850746268656713),\n",
       " (457, 0.970149253731343),\n",
       " (1027, 0.970149253731343),\n",
       " (1735, 0.970149253731343),\n",
       " (569, 0.9468131937613656),\n",
       " (1123, 0.9468131937613656),\n",
       " (1540, 0.9468131937613656)]"
      ]
     },
     "execution_count": 20,
     "metadata": {},
     "output_type": "execute_result"
    }
   ],
   "source": [
    "sorted(list(enumerate(similarity[0])),reverse=True,key=lambda x:x[1])[1:11]"
   ]
  },
  {
   "cell_type": "code",
   "execution_count": 21,
   "id": "c6f27ea2",
   "metadata": {
    "execution": {
     "iopub.execute_input": "2023-07-29T14:23:16.919030Z",
     "iopub.status.busy": "2023-07-29T14:23:16.918326Z",
     "iopub.status.idle": "2023-07-29T14:23:16.925733Z",
     "shell.execute_reply": "2023-07-29T14:23:16.924478Z"
    },
    "papermill": {
     "duration": 0.024763,
     "end_time": "2023-07-29T14:23:16.928866",
     "exception": false,
     "start_time": "2023-07-29T14:23:16.904103",
     "status": "completed"
    },
    "tags": []
   },
   "outputs": [],
   "source": [
    "def recommend(mobile):\n",
    "    mobile_index = df[df['name']==mobile].index[0]\n",
    "    similarity_array = similarity[mobile_index]\n",
    "    similar_10_mobiles = sorted(list(enumerate(similarity_array)),reverse=True,key=lambda x:x[1])[1:11]\n",
    "    \n",
    "    for i in similar_10_mobiles:\n",
    "        print(df['name'].iloc[i[0]])\n",
    "\n"
   ]
  },
  {
   "cell_type": "code",
   "execution_count": 22,
   "id": "550c3421",
   "metadata": {
    "execution": {
     "iopub.execute_input": "2023-07-29T14:23:16.955085Z",
     "iopub.status.busy": "2023-07-29T14:23:16.954348Z",
     "iopub.status.idle": "2023-07-29T14:23:16.965447Z",
     "shell.execute_reply": "2023-07-29T14:23:16.964174Z"
    },
    "papermill": {
     "duration": 0.027294,
     "end_time": "2023-07-29T14:23:16.968320",
     "exception": false,
     "start_time": "2023-07-29T14:23:16.941026",
     "status": "completed"
    },
    "tags": []
   },
   "outputs": [
    {
     "name": "stdout",
     "output_type": "stream",
     "text": [
      "APPLE iPhone 13 mini ((PRODUCT)RED, 128 GB)\n",
      "APPLE iPhone 13 mini (Starlight, 128 GB)\n",
      "APPLE iPhone 13 mini (Green, 128 GB)\n",
      "APPLE iPhone 13 mini (Midnight, 128 GB)\n",
      "APPLE iPhone 13 mini (Green, 256 GB)\n",
      "APPLE iPhone 13 mini (Midnight, 512 GB)\n",
      "APPLE iPhone 13 mini (Pink, 512 GB)\n",
      "APPLE iPhone 13 mini (Starlight, 256 GB)\n",
      "APPLE iPhone 13 mini (Midnight, 256 GB)\n",
      "APPLE iPhone 13 mini (Pink, 256 GB)\n"
     ]
    }
   ],
   "source": [
    "recommend('APPLE iPhone 13 mini (Blue, 128 GB)')"
   ]
  },
  {
   "cell_type": "markdown",
   "id": "d601b2b2",
   "metadata": {
    "papermill": {
     "duration": 0.012089,
     "end_time": "2023-07-29T14:23:16.992478",
     "exception": false,
     "start_time": "2023-07-29T14:23:16.980389",
     "status": "completed"
    },
    "tags": []
   },
   "source": [
    "## making Pickle file of df and similarities to use in web"
   ]
  },
  {
   "cell_type": "code",
   "execution_count": 23,
   "id": "92efd32e",
   "metadata": {
    "execution": {
     "iopub.execute_input": "2023-07-29T14:23:17.020189Z",
     "iopub.status.busy": "2023-07-29T14:23:17.019022Z",
     "iopub.status.idle": "2023-07-29T14:23:17.024774Z",
     "shell.execute_reply": "2023-07-29T14:23:17.023791Z"
    },
    "papermill": {
     "duration": 0.022591,
     "end_time": "2023-07-29T14:23:17.027523",
     "exception": false,
     "start_time": "2023-07-29T14:23:17.004932",
     "status": "completed"
    },
    "tags": []
   },
   "outputs": [],
   "source": [
    "os.makedirs(r'src\\model',exist_ok=True)"
   ]
  },
  {
   "cell_type": "code",
   "execution_count": 24,
   "id": "3d68ef74",
   "metadata": {
    "execution": {
     "iopub.execute_input": "2023-07-29T14:23:17.054511Z",
     "iopub.status.busy": "2023-07-29T14:23:17.053661Z",
     "iopub.status.idle": "2023-07-29T14:23:17.063881Z",
     "shell.execute_reply": "2023-07-29T14:23:17.062416Z"
    },
    "papermill": {
     "duration": 0.026709,
     "end_time": "2023-07-29T14:23:17.066977",
     "exception": false,
     "start_time": "2023-07-29T14:23:17.040268",
     "status": "completed"
    },
    "tags": []
   },
   "outputs": [],
   "source": [
    "pickle.dump(obj=df,file=open(file=r'src\\model\\dataframe.pkl',mode='wb'))"
   ]
  },
  {
   "cell_type": "code",
   "execution_count": 25,
   "id": "8c8eb4b4",
   "metadata": {
    "execution": {
     "iopub.execute_input": "2023-07-29T14:23:17.093424Z",
     "iopub.status.busy": "2023-07-29T14:23:17.092982Z",
     "iopub.status.idle": "2023-07-29T14:23:17.214402Z",
     "shell.execute_reply": "2023-07-29T14:23:17.213155Z"
    },
    "papermill": {
     "duration": 0.138892,
     "end_time": "2023-07-29T14:23:17.217708",
     "exception": false,
     "start_time": "2023-07-29T14:23:17.078816",
     "status": "completed"
    },
    "tags": []
   },
   "outputs": [],
   "source": [
    "pickle.dump(obj=similarity,file=open(file=r'src\\model\\similarity.pkl',mode='wb'))"
   ]
  },
  {
   "cell_type": "code",
   "execution_count": null,
   "id": "eb0e5bce",
   "metadata": {
    "papermill": {
     "duration": 0.011526,
     "end_time": "2023-07-29T14:23:17.241201",
     "exception": false,
     "start_time": "2023-07-29T14:23:17.229675",
     "status": "completed"
    },
    "tags": []
   },
   "outputs": [],
   "source": []
  }
 ],
 "metadata": {
  "kernelspec": {
   "display_name": "Python 3",
   "language": "python",
   "name": "python3"
  },
  "language_info": {
   "codemirror_mode": {
    "name": "ipython",
    "version": 3
   },
   "file_extension": ".py",
   "mimetype": "text/x-python",
   "name": "python",
   "nbconvert_exporter": "python",
   "pygments_lexer": "ipython3",
   "version": "3.10.12"
  },
  "papermill": {
   "default_parameters": {},
   "duration": 16.654361,
   "end_time": "2023-07-29T14:23:18.276427",
   "environment_variables": {},
   "exception": null,
   "input_path": "__notebook__.ipynb",
   "output_path": "__notebook__.ipynb",
   "parameters": {},
   "start_time": "2023-07-29T14:23:01.622066",
   "version": "2.4.0"
  }
 },
 "nbformat": 4,
 "nbformat_minor": 5
}
